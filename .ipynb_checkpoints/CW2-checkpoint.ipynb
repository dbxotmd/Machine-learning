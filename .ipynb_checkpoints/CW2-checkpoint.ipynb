{
 "cells": [
  {
   "cell_type": "markdown",
   "metadata": {},
   "source": [
    "##  COMP24112 Lab 2: News Article Classification by k-NN\n",
    "\n",
    "## 1. Task description\n",
    "\n",
    "You will work on a news article classification task.\n",
    "The provided dataset includes a total of 800 articles taken from Reuters newswire.\n",
    "They belong to 4 classes: \"earn\" (0), \"crude\" (1), \"trade\" (2) and \"interest\" (3).\n",
    "There are 200 articles per class.\n",
    "Each article is characterised by word occurrences.\n",
    "The list of used words is called a vocabulary.\n",
    "In our dataset, the vocabulary includes a total of 6428 words. "
   ]
  },
  {
   "cell_type": "markdown",
   "metadata": {},
   "source": [
    "## 2. Preparation\n",
    "\n",
    "First we need to import the data.\n",
    "Run the below cell to load the data using NumPy."
   ]
  },
  {
   "cell_type": "code",
   "execution_count": 1,
   "metadata": {},
   "outputs": [],
   "source": [
    "import numpy as np\n",
    "import matplotlib.pyplot as plt\n",
    "import scipy.sparse\n",
    "\n",
    "data, labels, class_names, vocabulary = np.load(\"ReutersNews_4Classes_sparse.npy\", allow_pickle=True)"
   ]
  },
  {
   "cell_type": "markdown",
   "metadata": {},
   "source": [
    "### A Note on Sparsity\n",
    "\n",
    "Most documents only contain a small subset of the vocabulary, resulting in a very sparse data matrix.\n",
    "To handle the sparsity, in this exercise `data` is represented as a `scipy.sparse.csr_matrix`, which can store sparse matrices efficiently while still allowing efficient row-based indexing.\n",
    "You can learn more about `csr_matrix` and other ways of dealing with sparse matrices at https://docs.scipy.org/doc/scipy/reference/sparse.html.\n",
    "\n",
    "Note, however, that `data` is **not** a normal NumPy array.\n",
    "While most operations will be the same as with a normal dense array, **you cannot use a sparse matrix to index another matrix**.\n",
    "If you need to do this, either first convert the matrix to a NumPy array with the `toarray()` method, or use methods specifically designed to work with sparse matrices."
   ]
  },
  {
   "cell_type": "code",
   "execution_count": 2,
   "metadata": {},
   "outputs": [
    {
     "name": "stdout",
     "output_type": "stream",
     "text": [
      "  (0, 2)\t1\n",
      "  (0, 3)\t3\n",
      "  (0, 5)\t1\n",
      "  (0, 8)\t1\n",
      "  (0, 10)\t1\n",
      "  (0, 11)\t1\n",
      "  (0, 12)\t1\n",
      "  (0, 13)\t1\n",
      "  (0, 21)\t2\n",
      "  (0, 24)\t1\n",
      "  (0, 105)\t1\n",
      "  (0, 127)\t1\n",
      "  (0, 227)\t1\n",
      "  (0, 275)\t1\n",
      "  (0, 334)\t2\n",
      "  (0, 341)\t1\n",
      "  (0, 348)\t1\n",
      "  (0, 359)\t1\n",
      "  (0, 411)\t1\n",
      "  (0, 426)\t1\n",
      "  (0, 1428)\t1\n",
      "  (0, 2058)\t1\n",
      "  (0, 5555)\t1\n",
      "[[0 0 1 ... 0 0 0]]\n",
      "['share' 'split' 'say' 'two-for-one' 'shareholder' 'annual' 'meeting'\n",
      " 'reuter' 'ct' 'note' 'company' 'pay' 'subject' 'increase' 'stock'\n",
      " 'dividend' 'april' 'northern' 'declare' 'approval' 'telecom' 'post-split'\n",
      " 'nt']\n"
     ]
    }
   ],
   "source": [
    "print(data[41,:]) # A sparse row vector; the output will be the non-zero indices and their values.\n",
    "print(data[41,:].toarray()) # Convert back to a NumPy array. Note that the result is a (1, 6428) matrix, not a vector.\n",
    "# print(vocabulary[data[41,:] > 0]) # Can't index vocabulary with a sparse matrix.\n",
    "rows, columns, values = scipy.sparse.find(data[41,:]) # Find the non-zero entries in the 42nd document.\n",
    "print(vocabulary[columns]) # Prints the words present in the 42nd document."
   ]
  },
  {
   "cell_type": "markdown",
   "metadata": {},
   "source": [
    "To see the full vocabulary, you can run"
   ]
  },
  {
   "cell_type": "code",
   "execution_count": 3,
   "metadata": {
    "scrolled": true
   },
   "outputs": [
    {
     "name": "stdout",
     "output_type": "stream",
     "text": [
      "island, telephone, share, split, approve, say, previously, announce, two-for-one, common, shareholder, annual, meeting, reuter, year, net, shr, loss, nil, vs, profit, ct, rev, mln, note, current, include, charge, discontinue, operation, dlr, ec, state, tax, majority, european, community, member, strong, reservation, import, domestically-produced, oil, fat, propose, commission, senior, diplomat, special, committee, agricultural, expert, voice, objection, measure, prepare, ground, farm, begin, monday, add, france, italy, indicate, support, proposal, lead, initially, tonne, 1987/88, price, round, complete, sale, french, unit, business, compagnie, francaise, group, investor, employee, minnesota, disclose, term, deal, plan, asset, electronic, shoe, town, end, jan, respectively, december, wisconsin, fwb, buy, bank, corp, acquire, bancshare, cash, acquisition, hold, company, total, billion, purchase, time, earning, office, paul, area, american, product, 3rd, qtr, period, feb, mth, avg, 4th, seven, entertainment, publication, disposal, pay, store, correct, mobil, mob, upgrade, refinery, spend, texas, catalytic, convert, component, gasoline, use, super, unleaded, allow, continuous, basis, shutdown, currently, shut, twice, produce, barrel, day, construction, start, late, completion, set, output, inc., result, slightly, ab, weakening, dollar, cause, drop, chief, executive, good, final, report, release, earlier, allocation, crown, compare, despite, fall, industrial, high, car, truck, completely, sell, year-end, operate, income, financial, strength, exceptional, opportunity, invest, future, meridian, energy, letter, intent, development, privately-held, decide, terminate, exclude, quarter, extraordinary, gain, british, minister, discuss, public, spending, finance, need, control, talk, today, chancellor, exchequer, nigel, lawson, treasury, spokesman, review, economy, domestic, decline, comment, subject, concerted, action, arise, u., currency, dip, sharply, week, month, relative, stability, agreement, major, industrialised, nation, paris, february, stabilise, feed, heller, urge, broad, reform, aid, banking, federal, reserve, board, governor, robert, strengthen, permit, formation, service, involve, like, insurance, real, estate, security, speech, delivery, new, york, analyst, association, believe, increase, diversification, line, key, idea, advocate, regulation, various, thrift, investment, subsidiary, handle, limit, place, extension, credit, associate, institution, transaction, necessary, avoid, abuse, position, require, serve, make, commitment, maintain, capital, word, fail, long, positive, commercial, enterprise, provision, flow, effect, corporation, customer, deposit, assure, incentive, remove, access, national, international, united, mean, steady, america, world, table, competitive, department, qtly, div, pct, 2-for-1, stock, cie, advance, science, datum, available, raise, dividend, quarterly, form, ask, number, payable, pre-split, april, record, distribute, receive, commonwealth, settlement, debt, stockholder, california, concern, title, northern, county, costa, san, home, saving, initial, cotton, u.s., run, season, census, bureau, brand, bp, manage, director, hike, standard, offer, user, merger, pacific, union, processing, mutually, agree, withdraw, negotiation, sign, merge, november, continue, ownership, commit, additional, history, expect, after-tax, close, primarily, direct, mail, marketing, likely, meet, growth, goal, lose, industry, regular, payout, declare, class, equal, prior, manufacturing, paper, dunn, jame, river, partly, reduce, contingent, payment, offset, closing, approval, satisfactory, labor, old, republic, int'l, june, crn, money, market, mutual, fund, expectation, value, petroleum, plc, half, signal, patch, think, bid, clear, confidence, higher, sanford, margosh, shearson, lehman, brother, early, tender, opec, win, war, crack, bruce, huge, implication, rest, issue, particularly, target, mention, usx, court, draw, attention, australian, holme, rumor, foresee, firm, takeover, situation, exception, possibly, partner, ago, restructure, point, rally, response, exxon, xon, rise, 1-1/8, chevron, chv, jump, texaco, tx, climb, 1/4, unocal, ucl, 1-3/4, occidental, amoco, 6-1/4, heavy, trading, session, wall, speculate, boost, 2-1/4, fact, giant, change, outlook, stay, hasty, view, look, long-term, heart, exceed, benchmark, crude, west, intermediate, trade, able, bright, alaskan, prudhoe, bay, field, north, extremely, attractive, large, just, fit, dean, witter, eugene, ahead, government, u.k., dispose, way, unite, revenue, cable, acre, co., finalize, bancorp, universal, holding, contract, obligation, chairman, freedom, recognize, first-quarter, defer, complex, recognition, come, repayment, loan, grant, commerce, house, dec, investigate, assurance, succeed, experience, negative, waiver, marine, midland, working, guarantee, secure, substantially, bernard, president, act, officer, engineering, halt, software, shipment, temporarily, technical, problem, program, anticipate, resume, fourth, oper, adjust, reverse, october, fair, lane, right, realty, research, backlog, cardena, decision, jorge, manager, colombia, coffee, federation, important, emerge, upcoming, organization, london, march, council, export, quota, routine, happen, unlikely, tell, journalist, suspend, failure, colombian, reporter, weekly, brazil, far, apart, prompt, yesterday, policy, know, project, stockpile, level, producer, accord, statistic, shortfall, regulatory, agency, 1st, earn, year-ago, tobacco, strike, introduce, low-priced, cigarette, performance, operating, trader, soviet, sugar, raw, night, hand, discount, spot, source, japanese, cargo, thai, relatively, nearby, remain, sharp, help, provoke, cover, cent, pound, limited, trust, date, proceed, hilton, holder, cease, liquidate, worth, debenture, substitute, distribution, connection, represent, balance, satisfy, liability, second, vote, profitable, follow, specific, figure, definitely, news, amendment, certificate, relate, center, property, plastic, work, denis, consumer, delegate, formally, present, friday, widespread, outstanding, item, reach, bilateral, consultation, delegation, main, draft, rule, package, certain, want, discussion, differential, different, origin, forward, material, minor, modification, original, intend, single, candidate, post, coast, exist, gmt, management, pledge, provide, expand, base, combustion, csp, environmental, principle, e.c, jordan, privately, pom, potomac, electric, power, virginia, territory, mainly, low, margin, cost, enter, head, design, manufacture, restructuring, adversely, affect, realize, significant, expense, remainder, pact, ohio, wholly, warrant, creditor, thing, micro, device, develop, chip, gate, complexity, harden, n.y, book, acceptance, nationally, schedule, borrowing, city, borrow, wednesday, two-week, statement, assumption, preferred, reorganization, resource, equivalent, previous, 3-for-2, effective, entitle, arsenal, determine, small, fiscal, attribute, pressure, cut, gross, addition, incur, aim, productivity, undertake, extend, hour, salary, job, save, annually, care, supply, average, free, depressed, seasonally, revise, economist, poll, forecast, forgiveness, dealer, collapse, foreign, exchange, speculation, germany, big, crash, stand, damage, claim, case, seek, mark, accuse, manipulate, private, great, recently, appeal, people, medical, evidence, life, crucial, hernandez, arturo, grisanti, regional, exporter, critical, effort, achieve, recovery, stabilize, non-opec, danger, reversal, really, movement, depend, venezuela, speak, opening, fifth, ministerial, informal, latin, caribbean, ecuador, mexico, attend, conference, observer, combat, congress, jaime, lusinchi, miraflore, presidential, palace, javi, espinosa, jose, assistant, secretary, perry, rubio, howard, b., significantly, inventory, potential, possible, shift, demand, brazilian, natural, gas, production, petrobras, basin, country, bpd, consumption, derivative, fuel, medium, general, central, three-for-two, white, semiconductor, economic, recommendation, reagan, retaliate, japan, alleged, unfair, practice, official, retaliation, curb, impose, senate, unanimously, penality, hard, hit, summer, stop, dump, open, return, anti-dumping, duty, semiconductors., indiana, plant, stake, chicago, banker, sec, try, gold, study, recommend, water, license, arrangement, appropriate, financing, estimate, feasibility, canadian, short, yield, rate, probable, ore, grade, yearly, break, zone, considerable, red, lake, mp, coal, related, nominal, consideration, specify, alberta, michael, retain, unspecified, royalty, reclamation, expire, reclaim, activity, occur, principal, authorize, proposed, article, option, broaden, multinational, sweden, variety, instead, optimistic, grow, leadership, intelligence, defense, congressional, joint, improve, worker, attitude, equipment, account, adopt, bring, apparent, solution, immediate, lack, appear, count, n't, marshall, goldman, harvard, university, hearing, fast, step, similar, peter, institute, advanced, commodity, discourage, innovation, technological, resistance, overall, surface, massive, party, complain, carry, conflict, quality, predict, technology, microprocessor, allowance, writedown, preliminary, finding, conduct, examination, authority, adjustment, deplete, environment, improvement, near, portfolio, non-performing, marathon, macmillan, ctc, ontario, ruling, uphold, block, hear, alfre, david, leave, join, motion, restate, reflect, january, delay, force, sheet, omaha, writeoff, subordinated, gatt, warn, budget, protectionism, emphasis, deficit, misplace, lie, agreeement, tariff, stress, protectionist, threaten, fundamental, size, remedie, encourage, personal, percentage, washington, resist, macroeconomic, barrier, little, reduction, inflation, basic, combination, insufficient, excessive, expansion, slow, workforce, risk, loom, imbalance, explanation, prediction, realignment, bear, sizeable, combined, impact, rapidly, worsen, climate, uncertainty, push, turn, trade., surprising, depreciation, expensive, suggest, idle, human, underutilised, factory, gear, abroad, stagnant, pattern, sector, decade, moderately, indebted, chile, philippine, south, korea, thailand, smelter, northw, mid-may, capacity, lease, corp., reopen, successful, unchanged, index, consecutive, year-on-year, september, winter, clothing, vegetable, electricity, housing, education, footwear, unadjusted, tokyo, food, utility, n.z, zealand, statistical, panel, sanction, violation, u.s.-japanese, administration, announcement, frustration, probably, consult, aide, persuade, abide, july, govern, u.s.-made, dumping, closed, unanimous, penalty, contain, semiconductor-based, television, video, cassette, recorder, nakasone, visit, prime, yasuhiro, week-long, cabinet, masaharu, gotoda, resolve, friction, venice, summit, western, democracy, tadashi, kuranari, accompany, ministry, violate, microchip, asia, australia, bp.l, compensation, subsidy, refiner, partially, enable, modest, pre-tax, pct-owned, sustain, exploration, endeavour, 33-1/3, chemical, maker, farmer, finalise, nitrogen, anz, jardine, h.k, turnover, bonus, par, august, broken, hill, pty, brkn., minority, mineral, steel, corporate, adjusted, finish, machine, tape, machinery, downturn, planning, gnp, match, balanced, four-for-one, ordinary, quote, simon, section, especially, hong, kong, land, fleming, lower, reorganisation, strain, flexibility, recent, pende, exercise, nearly, transfer, hk, strategic, spin, dairy, plus, cross, transform, middle, east, weakness, strategy, structure, policy., create, midday, rumour, 1985/86, range, register, qualify, tax-free, introduction, imputation, rank, influence, legislation, confine, division, generally, volume, bass, strait, operational, difficulty, largely, iron, southern, cement, acreage, surplus, lobby, agriculture, usda, taiwan, fulfil, protest, award, dominican, taiwanese, list, badly, lay, staff, entire, container, ship, cancel, local, press, later, file, protection, law, china, morning, charle, comprise, singapore, manila, seoul, osaka, provisional, survey, 1986/87, certainly, long-standing, reason, peso, ready, throw, submit, corazon, aquino, wait, election, enjoy, drive, longer, region, learn, mistake, diversify, corn, farming, cloth, lesson, diversified, industry., room, renewal, write, revive, subsidise, markets., uneconomical, bullish, artificial, happy, supplier, restore, watch, slash, suit, danish, cooperative, yen, anger, telecom, dispute, equity, telecommunication, legal, telecommunications, send, postal, malcolm, baldrige, object, participation, express, oppose, role, dampen, opposition, compete, monopoly, wireless, cawl.l, ford, motor, citibank, na, cci, digital, communication, merrill, lynch, mer, competitor, reject, argue, precedent, channel, dilute, eventually, bache, political, leverage, wo, diplomatic, reasonable, sort, watanabe, keidanren, arrange, outline, thursday, newspaper, britain, apply, placement, participate, wake, spark, herald, subsequent, one-for-four, radio, station, belgian, parent, metal, link, appreciation, defence, document, defend, itself, stg, pretax, u.k, england, shortage, factor, liquidity, mature, drain, aluminium, smelt, past, cheap, primary, indonesia, calendar, tight, recover, weak, dominate, segment, passenger, light, vehicle, suffer, profitability, erode, lift, penetration, buyer, netherland, ban, suspect, foot, mouth, daniel, notify, km, northeast, province, immediately, milk, beef, alternative, canada, al, swap, deputy, jeremy, davis, broadly, nz, overseas, closer, relation, treaty, accept, normally, invite, consolidated, attributable, franc, priority, ag, anticipated, mass, dieter, satisfied, 1984/85, projection, employ, barber, conable, sake, contribution, businessman, academic, support., assist, road, bridge, infrastructure, advantage, rechannelle, notably, india, faster, developed, concessionary, lending, affiliate, ida, reconstruction, ibrd, structural, competition, maybe, und, refine, concentrate, core, five-year, convertible, redeemable, spain, assistance, daily, oblige, borrower, window, normal, overnight, suspension, 10-day, accounting, requirement, peseta, hard-pressed, soothe, defuse, mount, chance, success, slim, box, powerful, ronald, congressman, coincide, retaliatory, live, arm, separate, pep, sagge, short-term, redirect, away, over-dependence, infighting, rob, punch, prevent, insist, pass, parliament, fear, tacit, admission, inadequate, hope, quick, passage, trip, shatter, parliamentary, boycott, face, possibility, virtually, empty-handed, order, liberal, democratic, ldp, deregulation, benefit, accelerate, portion, democrat-controlled, complement, longer-term, high-ranking, advisory, body, haruo, maekawa, concrete, follow-up, potentially, politically, explosive, explicit, reality, subcommittee, consider, undergo, amounte, gradual, outright, band, 9-13/16, intervene, dealing, intervention, aggressive, selling, ease, bundesbank, touch, test, fairly, contrast, progressive, launch, supermarket, minimum, one-for-one, debate, lately, buying, programme, highlight, worldwide, destination, turkey, libya, worthwhile, enquiry, proportion, operator, tighten, considerably, eastern, react, upwards, physical, interim, pakistan, shortly, originally, tomorrow, egypt, arrival, greece, internal, sa, mining, sum, elaborate, societe, countertrade, gap, search, non-communist, conserve, wheat, tea, jute, impetus, stc, mmtc, respect, bulk, promote, indian, spokeswoman, targette, bloc, non-convertible, rupee, textile, narrow, insignificant, shrink, dynamism, discreetly, officially, bartering, yugoslavia, rail, global, clause, preference, kind, flexible, quietly, interested, aircraft, drill, rig, railway, illustrate, korean, drilling, platform, state-run, wholesale, 2nd, carryforward, wage, one-third, transportation, responsible, fish, drug, apparel, spring, merchandise, man, mmb, weather, disrupt, sea, shipping, saturday, rain, wind, tonight, frequent, southwest, northwest, wave, build, diminish, weekend, suez, lloyd, port, chamber, monthly, expected, german, so-called, grey, illegal, pose, hedge, dollar-denominated, third-party, centre, swiftly, mohamme, keen, contentious, concession, question, prove, assign, soon, fully, advise, yr, closely, st., mortgage, servicing, combine, origination, afternoon, austria, austrian, deny, suggestion, vienna, creditanstalt, girozentrale, aware, purely, purpose, han, obtain, application, process, procedure, facility, equally, non-recurring, revaluation, offering, restaurant, manhattan, headquarters, sept, distributor, manufacturer, family, trend, fee, analyze, double, dougla, moderate, particular, vice, identify, it., focus, broadcasting, electrical, consistently, poor, w., establish, expenditure, fine, smoke, condition, quickly, uk, revoke, licence, select, progress, ca, yes, cross-section, influential, increasingly, impatient, sense, urgency, undermine, margaret, thatcher, hesitate, reciprocal, clearly, mind, defict, coordinate, restrictive, feeling, inside, parliamentarian, conservative, refuse, authorise, london-based, legally-binding, channon, engage, collective, alan, clark, interview, certification, overnight., reciprocity, regard, visible, dominant, aspect, fairness., minimise, indication, weigh, wide, retail, building, course, prospect, temporary, indirectly, repurchase, 6-1/8, sydney, ltd., appliance, retroactively, capitalize, intangible, ability, ongoing, waste, removal, mar, outlet, promotional, information, des, nec, pricing, jerome, cornerstone, qtrly, contingency, drawing, fixed, zero, malaysian, malaysia, conclude, unable, implement, organize, assess, sun, publishing, publish, lewis, glamis, glgvf, rebound, florida, mile, offshore, louisiana, gulf, discovery, depth, sand, cubic, choke, owner, venture, oklahoma, slap, receiver, laser-printer, penalize, hitachi, toshiba, fujitsu, reaan, invoke, negotiator, extensive, avail, peg, intention, tuesday, spur, belief, repeat, switch, cargill, echo, warehouse, pick, tab, storage, stipulate, mandatory, disagree, lot, 'll, outside, walter, brown, verify, gather, caution, opinion, difference, pretty, plaza, travel, gro, francisco, 109-billion, rat, lawsuit, dilson, funaro, monetary, imf, carefully, space, post-split, soft, type, slump, tie, network, bond, imperial, tangible, pace, constructive, steam, pronounced, william, reynold, upward, volatile, picture, competitiveness, willing, tolerate, s.g, warburg, door, conclusion, reaffirm, n.a., pursue, adviser, instruct, grain, status, satellite, choose, battle, team, dutch, philip, sit, ally, df, 13-1/2, amid, chinese, engineer, underway, slide, scale, premium, fix, nigeria, weight, minstar, confirm, restrict, maximum, welcome, conform, ring, exclusively, dollar-based, conversion, sterling, alleviate, romania, attract, active, zinc, replace, difficult, totally, disappear, feature, volatility, presently, squeeze, deliver, widen, declaration, 25th, narrowly, notice, resident, charter, glass, dynamic, michigan, den, stage, liquid, seasonal, premi, relax, relaxation, surge, framework, emergency, professor, bit, liberalisation, end-february, angrily, allegedly, eiaj, shoichi, saba, premature, irrational, attempt, assessment, comply, agreement., governmental, reconsider, evaluate, objective, emotional, bias, heated, cut-price, american-made, salvage, multi-lateral, organisation, regret, tree, licensing, bulletin, arab, establishment, preserve, civil, devastate, productive, acceptable, meantime, protect, health, accession, postpone, scrap, abolish, evolution, foreigner, widely, wang, trouble, suitable, unacceptable, sound, conciliatory, bitter, row, explain, stance, thoroughly, kyodo, high-level, settle, formal, request, deadline, u.s./japan, investigation, asian, hammer, distinctly, hajime, tamura, miti, downplay, significance, remark, message, urgently, admit, geneva-based, police, legality, wishful, thinking, confident, unregulated, dry, acknowledge, ensure, tsba.t, likewise, islamic, idb, porfolio, redeem, emirate, wam, cooperation, gcc, bahrain, kuwait, oman, qatar, saudi, arabia, uae, restrain, mid-1986, boom, recession, fresh, coordination, quite, substantial, series, examine, kuwaiti, dinar, trade-weighted, theory, foster, stable, instrument, recognise, hamper, premier, three-year, vice-chairman, banque, morgan, guaranty, treasurer, bad, plunge, economically, brief, pave, soar, dictate, erupt, full-scale, adverse, relationship, isolate, fall-out, sure, perception, respond, that., spread, depict, severe, warning, belligerent, angry, walk, secret, draconian, enforce, irrational., meaningless., solve, convince, allegation, fuer, gemeinwirtschaft, bkfg.f, prospectus, turbulence, troubled, depress, compensate, emphasise, necessarily, debtor, deutsche, sumita, satoshi, beginning, careful, judgement, septemb, steep, stem, peru, garcia, jungle, ecuadorean, border, site, treatment, extract, u.s.-japan, refer, spare, sides., understand, all., observe, adhere, avert, hop, tone, auto, ignore, bidding, partnership, afg, reiterate, negotiate, conglomerate, fetch, inform, explore, prefer, green, correspond, george, cumulative, tropical, woolworth, indonesian, suharto, backdrop, devalue, rupiah, editorial, jakarta, deregulate, non-oil, steadily, burden, end-investor, cautious, coupon, 10-year, favourably, chain, effect., allege, defiance, non-u., chipmaker, non-regulated, 'm, nick, edward, matsushita, rapid, levy, length, erosion, tom, murtha, capel, altogether, harm, approach, contradiction, hurt, vast, carole, ryavec, salomon, stimulate, export-dependent, economy., luxembourg, deterioration, weaken, deteriorate, provisionally, circumstance, beneficial, moment, unusual, petrochemical, regime, newly, valid, frequently, envisage, 91-day, traditional, afford, allot, differ, underlie, guilde, image, shop, inflow, behalf, easy, comparison, supplement, calculation, cartel, ail, transport, yard, capable, renew, 1988/89, sluggish, favourable, taxation, excess, allocate, guideline, fight, hostile, packaging, swedish, mel, attach, hectare, sixth, healthy, monitor, contemplate, broker, auction, est, client, tour, pioneer, popularity, popular, clearing, sight, threat, lessen, external, commissioner, stabilisation, benefitte, initiative, prepared, modestly, john, organic, maintenance, hotel, end-1986, indirect, sach, berlin, commerzbank, cbkg.f, state-owned, bonn, high-technology, reliance, broadly-based, divide, exciting, method, barclay, independent, subscribe, continued, listing, retire, appoint, refrain, directly, seller, aggressively, grangemouth, explosion, accident, kill, person, hydrocracker, overhaul, african, kenya, flat, interbank, mechanism, chocolate, overhang, pull, doubt, rely, reaction, tool, manoeuvre, perfectly, sensitive, winner, effectively, scheme, sdr, disappoint, nv, surprise, apparently, favour, tate, await, organise, willingness, manner, colorado, coastal, repay, continental, motivate, 7-1/2, million, clarify, actively, gilt, gradually, three-month, fluctuate, bullishness, triton, consist, exploratory, conventional, miller, yugoslav, fso, fluctuation, calculate, belgrade, all-time, cite, automotive, injection, gm, peak, gdp, straight, wood, automobile, custom, texa, windfall, scientific, santa, mexican, petroleos, mexicano, pemex, auditor, arthur, andersen, qualified, subsequently, unisy, uis, newport, geneva, switzerland, pro, element, posted, sulphur, 6-3/8, bow, secondary, principally, seaman, calgary, montreal, mid-april, 're, criterion, formula, master, unitholder, brokerage, divestiture, bob, consistent, non-binding, seattle, contravene, event, highly, incident, reveal, remote, sufficient, outcome, dialogue, matter, agenda, representative, imagine, scheduled, blame, rica, damaging, solidarity, adoption, jopling, portugal, weighted, year-earlier, contribute, pipe, spotlight, congres, rap, enormous, symbol, crisis, symbolize, challenge, nuture, multitude, leader, byrd, democrat, speaker, jim, wright, wide-ranging, readie, dismay, sophisticated, host, citrus, tough, relief, controversial, rep., richard, gephardt, aspirant, missouri, example, mid-1988, tired, 'we, marketplace.', argument, refining, garment, maturity, definitive, merchant, lend, undeveloped, clayton, bt, itt, weakened, improved, netback, mediterranean, pipeline, sweet, sour, alaska, europe, brent, bonny, dubai, cif, iran, cruzado, devaluation, unclear, owe, permanently, golden, don, hughe, hug, execute, detroit, versus, perform, repair, athen, aggregate, silver, king, additionally, dalla, mr, fashion, f.w, roughly, processor, self-imposed, cereal, j.p, belgium, affair, scandal, approximately, jpm, mayfair, hanover, guard, park, alarm, houston, 2-1/2, advisor, heat, decrease, heating, gallon, unemployment, social, usual, arrive, correspondent, gerhard, stoltenberg, karl, otto, poehl, italian, blow, baker, meaningful, 2.0-2.5, repo, permanent, float, translate, patent, disposition, dominion, burlington, n.a, concerned, michel, query, publicly, thoma, unavailable, repeatedly, topic, consume, interesting, essentially, evening, medium-, setback, euromarket, furniture, restriction, sir, lengthy, disadvantage, montedison, spa, agro-industrial, characterize, renato, italiana, interstate, donald, entity, 4-7/8, true, story, play, heavily, fabric, outlay, johnson, enhance, unsuccessful, 5/8, last-ditch, makoto, kuroda, smith, smart, audio, likelihood, monitoring, honor, enforcement, injure, enact, counter, redress, inaccurate, supply-demand, carolina, mellon, marlin, fitzwater, spite, jone, terminal, rent, freddie, beer, guilder, spanish, el, s.a., van, africa, essential, nigerian, successfully, banana, finally, bar, moscow, 12-1/2, samuel, traditionally, shelf, aegean, armed, confrontation, ambassador, nazmi, akiman, greek, reply, turkish, content, reinvest, laser, regulator, criticize, dilution, safety, virtual, responsive, vary, installation, itc, momentum, attain, tranzonic, tnz, iii, atlantic, connect, earthquake, 90-day, iraqi, troop, iranian, iraq, occupy, command, victory, thrust, attack, warplane, tank, baghdad, plane, destroy, raid, shoot, naval, sink, boat, inspection, inspect, administrator, phase, disruption, pilot, airline, assume, realistic, vulnerable, rental, emphasize, escalate, kick, louis, tailor, irna, gholamreza, aqazadeh, manpower, training, exploitation, forum, consequently, slowly, generalize, discipline, restraint, imposition, tend, proved, wilson, stimulus, more., discover, stick, definition, dl, inclusion, one-time, copper, vice-president, consortium, hopeful, cp, historically, streamline, jeffrey, allen, preparation, costly, air, fare, lender, classify, nat'l, spirit, ccc, importer, usa, exclusive, duty-free, locate, wine, compliance, wojnilower, boston, albert, subvert, occasion, harder, justifiably, seriously, participant, hiccup, dress, end-of-fiscal-year, above-average, pick-up, unsustainable, ray, pratt, version, stewart, southeast, fertilizer, exposure, somewhat, ratio, leaseback, distance, strongly, card, nova, scotia, 12-month, survival, bancorporation, implementation, existence, dependent, trim, buoy, magnitude, stanley, volcker, downward, remedy, chase, industrialize, testimony, answer, persistent, worry, ceiling, extent, floor, breakdown, inability, chesebrough, chesebrough-pond, unilever, favorable, said., envision, slight, santo, onshore, oilfield, cast, end-1987, rio, cra, claus, koehler, speculative, separately, hiss, background, dash, let, sentiment, accommodative, surrey, regardless, diametrically, activity., monetarist, concretely, counterpoint, overly, reuter^m, journal, debit, complaint, withdrawal, unless, liquified, rationalisation, swiss, shanghai, ta, hua, modernise, domestically, catch, riyal, spot-next, spill, 6-3/16, 5-15/16, 7/8, edge, 6-3/4, suisse, confirmation, exempt, read, page, grace, disburse, utilisation, household, seventh, socialist, campaign, sunday, privatisation, director-general, la, sweeping, paribas, et, lombard, eliminate, algeria, erasable, programmable, memory, unfairly, proof, justified, subscription, basically, urgent, postwar, criticism, meeting., notable, annuity, hague, goodwill, g-7, appreciate, suppose, holiday, warmer, guidance, entry, presence, gelco, kingdom, pool, realise, district, bargaining, membership, suntrust, sti, argentine, cow, default, r., c., kansa, waive, boveri, bbc, bbcz.z, carlo, e.f, hutton, banco, 7-3/4, inject, category, mixed, slowdown, semi-annual, disappointment, cope, rout, sustained, wealthy, poorest, occasion., graphic, fhlbb, two-third, depository, adequate, consent, plc., restricted, esso, educational, sallie, mae, student, 5-14, mac, frankfurt, upper, unnamed, interior, omit, exchangeable, resign, s., t., leasing, demonstrate, growth., standstill, diamond, salt, incorporate, states., presentation, reference, briefly, canron, quebec, rotterdam, undercut, upturn, strictly, already., bethlehem, inland, efficient, turnaround, mid, 1/8, neutral, mix, diagnostic, pharmaceutical, hot, unlike, brasil, cacex, orderly, sustainable, policy-making, simply, compensatory, royal, roy, jersey, joseph, undervalue, months., rome, contact, retirement, notion, semiannual, so., mid-1990, game, cruz, accordance, instruction, obvious, drexel, lambert, burnham, accomplishment, comparable, kenneth, puerto, rico, liberty, citicorp, entirely, t-bill, bidder, consensus, informally, resolution, ctyn, rd, dutch/shell, fb, quantity, jeopardize, belong, involvement, counter-productive, brighten, greenshield, toronto, slip, curtail, ussr, juice, freeze, degree, amend, trigger, shp, beverage, shamrock, 20-year, evaluation, 1-1/2, adam, detailed, argentina, foremost, bankruptcy, trap, provincial, newhall, dependency, inevitable, disincentive, synthetic, foodstuff, receipt, conjunction, facilitate, dd, tract, conoco, hydrocarbon, patient, write-off, funding, direction, mcdonnell, strict, inch, extended, miss, minus, correction, tucker, address, mandate, worst, uplift, overcome, precision, jack, identity, chicken, favor, calling, medicine, fort, determination, agreed, hefty, wish, technique, tackle, tactic, unreasonable, stripper, arctic, wildlife, refuge, judge, illegally, jay, irve, dismiss, ottawa, edmonton, lukman, couple, annum, rilwanu, industrialise, swing, stimulation, inappropriate, helmut, kohl, severely, stretch, revision, die, condemn, speed, century, adherence, hint, modify, recoverable, one-fifth, endanger, caribou, lee, superior, ncnb, maryland, rejection, maximize, turmoil, false, misleading, richfield, arc, mold, shultz, selective, confront, impossible, reasonably, bold, champion, breach, punta, del, este, auspex, jamaican, resort, chair, jamaica, senegal, papua, guinea, coat, bcf, mideast, vital, military, mountain, camp, actual, logic, aspen, individual, dan, timing, undetermined, mercantile, hardware, metric, feel, interprovincial, shall, hr, norwegian, brass, burst, thousand, metre, shell, vessel, friendly, tanker, fly, task, planned, municipal, language, telegraph, andrew, inroad, continuation, mfn, one-year, hungary, fate, missile, republican, imply, enhancement, g., expanded, massachusett, modern, optimism, analysis, sam, veto, destine, legislator, enactment, persian, supporter, critic, bombing, leftist, army, ecopetrol, estimated, pump, columbian, recipient, hide, promising, constraint, liberalize, lifting, protected, surround, venezuelan, manuel, azpurua, one-half, norway, senator, appropriation, iran-iraq, contrary, furthermore, choice, mitigate, jawboning, barney, harris, upham, upside, westpac, indicator, anza., crane, shot, austerity, disaster, anxious, divert, usually, disagreement, budgetary, useful, colleague, unusually, promise, rice, 1990s, viability, intensify, overcapacity, variable, rupture, guillermo, dehesa, spell, drastic, plenty, gill, acid, unilateral, denman, multilaterally, dangerous, path, impede, six-month, pittsburgh, rush, shield, looming, scope, obstacle, abolition, coalition, swell, copy, lay-off, struggle, generate, autumn, cftc, abandon, unresolved, bro, comprehensive, satisfactorily, cepe, plain, petrocanada, fran, permission, ample, merely, arizona, code, future., high-tech, crossroad, destocke, boee, hydraulic, medium-term, mission, cd, york-based, forma, restart, south-east, two-day, tourist, regain, fadhil, al-chalabi, sacrifice, credibility, caraca, painful, conservation, easily, reflection, rebuild, buoyant, unveil, align, insure, self-sufficiency, embassy, intense, risky, audience, dismantling, dismantle, ireland, refusal, narrowing, inevitably, export-led, hongkong, overdraft, s.korea, won, condensate, marginal, excise, 5.5p, gauge, taxpayer, voluntary, telex, guide, pertamina, contractual, understanding, commencement, crush, reschedule, hardship, desire, upwardly, norman, der, alter, severance, frank, westminster, nwbl.l, rpt, intact, unwilling, fence, mildly, pessimistic, negotiable, presidency, unity, package., oil-rich, gasoline-rich, first-half, mirror, minimal, one-quarter, barter, reluctance, kleinwort, cts/bbl, novemb, calm, nervous, subsidize, posting, phillip, wti, spin-off, disappointing, bernstein, multiple, shc, edmonton/swann, bbl, imo.a, tultex, ttx, margarine, hugely, southland, dlrs/bbl, murphy, permian, slc, citgo, age, wildcat, petro-canada, antwerp, firmly, justify, discriminatory, unp, champlin, nippon, strip, deductible, eventual, two-year, initiate, powdered, hemisphere, dupont, tran, criticise, uruguay, procurement, oversee, api, temper, benson, availability, lubricant, unprofitable, efficiency, inspire, indefinite, integral, embark, servant, toll, wrong, effectiveness, film, contractor, lucrative, wyome, airport, fruit, worse, sorely, ryan, la., moore, closure, accumulate, lag, steve, prevail, dwindle, english, player, rich, dozen, majeure, sulphuric, stoppage, hale, railroad, thought, husky, substance, hyo.to, wedge, u.s.-canada, u.s.-canadian, brian, mulroney, oecd, halve, marked, finland, fsi, nfsi, reeacquisition, precambrian, uneconomic, grease, monkey, gmhc, nov, acpt, mnst, respective, toog, option-granting, asc, kasler, kasl, un.a, angus, cbm.n, niall, fitzgerald, divergence, 50.17p, stauffer, lipton, surf, detergent, peke, discard, prejudice, generalise, gsp, print, counsellor, chen, shibiao, behaviour, out-of-date, pickup, insititute, accountant, intek, idcc, population, pharmacia, phab, st, once-off, know-how, adr, parity, lkb-produkter, intermedics-intraocular, dbkg.f, bankamerica, clash, minute, fre, trademark, agent, post-tax, op, dane, elimination, bank/canada, uncertain, guinean, lifetime, healthcare, herman, croo, re-orient, europe., introducte, problems., products., stupid, upset, mosty, suprlus, diverted, clout, fom, west., atmosphere, dramatize, headline, rostenkowski, temptation, club, d-ill., screen, plea, fairness, 1/2, fellow, stephen, career, ecgd, aged, convern, lump, at., trough, qustion, newsletter, sesame, artificially, catastrophe, evident, reluctant, luncheon, suicide, airbus, industrie, unexpected, midafternoon, unique, reshape, ccr, harold, annualize, carryover, ultimately, standpoint, certainty, timely, 30-35, saudis, jawbone, longshot, cheating, appearance, mckinley, oversell, rally., yeterray, indidate, denial, postition, subroto, canot, marion, indepedent, slack, 4-1/2, panic, sooner, jam, raymond, pancanadian, whitehall, distillate, residual, francisco-based, sponsor, patrick, leahy, d-vt., sen., melcher, d-mont., donation, pl480, concessional, bangladesh, tunisia, morocco, injury, apple, yr-ago, wellemeyer, ope, interfuel, resolved., exemption, mcdonald, non-voting, problem., pontiac, 24-month, 36-month, 48-mopnth, 60-month, equip, interst, ann, camco, specifically, ought, infe, apolonio, ruiz, ligero, four-year, fad, context, abroad., swift, korean/taiwan, fairchild, lastly, market., treat, bind, fourteen, 13-week, brown-forman, bfdb, refund, transition, soften, easing, compatible, hugo, paeman, multilateral, etienne, davignon, luyten, energy/california, curti, birr, bolster, munger, track, dreg, ed, malmgreen, marker, blend, stripp, extraction, cloud, kern, crawl, mitchell, guerard, srd, deep, gathering, simple, sudden, idaho, unfortunate, gat, woong-bae, rha, sources., parts., federally, u.s.-, briefing, low-price, 12-nation, preferential, minoru, endo, unfounded, herring, prohibit, unprocessed, salmon, herre, stiff, 3-1/2, algerian, counterpart, belkacem, nabi, ap, permament, alick, buchanan-smith, diving, buchanan, snith, brent-grade, style, britian, oil-consuming, oil-producing, hal, february., nugent, oilpatch, lawmaker, revitalize, tertiary, coherent, way., deplore, shy, fertiliser, syndicate, six-year, seven-year, mhc, dlr/bbl, wrap, cap, drag, u.s.protectionism, eec, retaliate., ec-u.s., u.s.-ec, brink, reesentment, unilaterally, deadlines., commuity, better., bypass, agreeeement, arbiter, interpret, wonder, 49-1/8, accomplish, load, financier, route, yeutter, carlos, drawdown, preparatory, petrleum, strive, faith, short-covering, quiet, dead, unbalanced, limitation, balance., honour, diversity, ht, bko, ike, kerridge, belgolux, belgo-luxembourg, bleu, half-point, broad-based, 12-member, kaputin, privileged, beneficiary, kina, exactly, undersecretary, wallis, domestic-led, supercomputer, kansai, jeopardy, fundamentally, labour, heighten, chartered, polish, poland, precise, hypothetical, blur, illusory, excuse, under-, achieving, favoured, suppression, martial, devise, offshoot, envoy, extrapolate, freely, theoretical, evaluation., illusion, misunderstanding, phenomenon, nebulous, curbing, janusz, kaczurba, pap, uncommonly, dlrs., moral, torpedoing, ice, pole, immorally, solidarity., wladyslaw, baka, partners., debt., obstruct, superpower, cooperate, anatolian, egyptian, overproduction, arabian, overprice, country-by-country, gabon, decree, gazette, interest., mike, ocean, warwick, leed, dresdner, exit, amstutz, underestimate, detect., proceeding, administer, newsprint, greatly, carroll, proportionately, georgia, rip, archer, taper, gnt, independently, prestige, financially, wilderness, premdor, ho, peninsula, staley, coke, cpl, desjardin, visa, confederation, caisses, populaires, d'economie, desjardins, unpaid, billing, designate, petroleo, pdvsa, doe, herrington, better, tap, neighbour, dollar/yen, urging, diet, populous, ratification, unofficial, safe, forbid, crumble, cautiously, absorb, craa., a/, dependence, li, petition, prospective, ferdinand, marco, now., relieve, pall, 8-1/2, mediator, picken, accrue, importance, firming, quake, pile, paralyse, society, perceive, tarrif, equatorial, equa, casey, dia, unpleasant, demonstration, occurrence, felipe, gonzalez, maximium, companion, anticipation, nice, revalue, gesture, backing, hypothesis, jurisdiction, understandably, dennis, eradicate, inhibit, legitimate, opecna, secretariat, price., biannual, noticeably, month., lifter, entail, extraordinrary, matrix, seven-state, assertion, entrant, fortune, constant, cook, carlucci, mthly, sc, pre-budget, penal, 11-3/4, drew, three-quarters, rates., 1.5798/808, 1.5650/60, 2.8900/60, 2.8720/50, re-rating, fellner, bout, bet, upheaval, harmful, pause, guess, egpc, ras, bahar, stockbroker, prudential, ward, buildup, inflate, striking, almir, fault, harbour, kit, tandem, yellow, 3/8, hurdle, 3-3/4, underproduce, correct., propuce, 75-100, refiner-buyer, free-for-all, seven-nation, twice-postponed, grades., fibre, mississippi, pearl, encounter, u.s.-european, harmony, bailey, attendance, tension, jean-claude, paye, franz-josef, feiter, heed, differentiate, disparity, profit-taking, suport, bouy, depression, rescheduling, simmon, phil, icg, compose, noir, yugoslavian, egon, padovan, wmx, safeguard, purusant, internationally, douglas, anybody, marketplace, ankara, yalim, eralp, territorial, berne, iea, cutback, norbec, leeway, 0.1-0.2, 0.2-0.3, yanbu, ngl, centrally, non-conventional, tar, processie, curtailment, refinancing, isthmus, maya, axp, incline, pbt, welfare, stone, sto, ^m, allowable, g-6, culminate, start., steward, ominous, society., illinois, evan, indefinitely, pumping, corporacion, estatal, petrolera, ecuatoriana, tremor, salado, aguarico, reventador, volcano, epicentre, seismologist, 12-point, mercalli, ecaudor, property-casualty, bush, imediately, temperton, 72-73, cox, ebc, amro, one-week, hoare, govett, run-up, glory, ian, harwood, mercury, confound, excitement, 3/4, pertain, three-months, sovereign, writer, kilometer, comparative, shake, greet, jacobson, destocking, ultimate, indefintiely, short-haul, scarce, readily, skeptic, hanke, friedburg, quotas., government-to-government, resold, anniversary, repeal, out-of-pocket, lumber, random, eve, assert, persaude, collision, pete, 7-1/8, stumble, beaufort, hinder, vacuum, algier, deploy, stablise, prices., petro-chemical, fishery, coradian, cdin, nicaragua, paraguay, intended, saskatchewan, flow-through, notification, u.n, m., glut, override, interpretation, re-export, apartheid, rationale, 24-hour, seven-day, one-month, two-month, three-, nine-months, 3-1/4, savings, fade, medium-sized, deck, consultative, iraq-turkey, landslide, adana, hurriyet, kirkuk, yumurtalik, alert, lago, agrio, balao, hook, eighth, hector, hurtado, unwillingness, sideways, 100-1/4, 5-3/4, 99-3/4, increased., fixed-rate, kassenobligation, fob, submission, taka, proper, discounted, nioc, colder, disguised, vlcc, individually, obligate, impair, whichever, advantageous, sell-out, woe, showdown, bipartisan, sept., grip, parking, contel, tumaco, desirable, lasting, japan., world-wide, anti-inflation, breakthrough, breathing, export-import, p., roxy, shape, chl, jwc, generous, loss-making, froze, abdelaziz, adequately, 2-3/4, roger, planner, throughput, have., roberto, fendt, govt, exact, deem, 6-1/2, untied, seminar, oil-dependent, expatriate, spate, doha, staunch, penalise, terribly, wealth, vat, one-for-two, fruitful, denomination, bolivar, mid-june, stopover, 9-1/2, 5-1/2, overshoot, sheikh, bin, sultan, tendency, irish, eagle, willy, clercq, mee, cyprus-based, authoritative, oil., entitlement, pan, ditch, mitsuru, uchida, waseda, memorandum, expiry, endorse, testing, outer, inherent, practical, range., scottish, flatten, transact, four-day, exports., reading, seperate, north-central, guerrilla, three-day, economical, joe, emergence, truly, boiler, stream, yukio, interchange, fledgling, depletion, violent, 50-minute, dramatic, dresser, di, ali, schlesinger, liberalise, 1980s, exploit, al-rai, al-aam, exert, genuine, nervousness, theirs, 13-member, fahd, doldrum, justification, wil, aramco, ex-partner, rearrange, piw, prince, porex, medco, containment, added., maxwell, iit, norske, stat, oljeselskap, stat.ol, statoil, haltenbanken, colony, voluntarily, peerless, softwood, countervail, bomb, quinn, dallas-based, comeback, ineffective, annoy, deserve, fulfill, 6-7/8, saddle, 1973-74, embargo, parish, displace, insistence, offical, facto, retroactive, market-related, tranche, 1987-92, oda, 28-day, 6.5p, sufficiently, ebullient, reputation, bloated, 1960s, finger, markka, 27.5p, peasant, peking, accusation, summon, suleiman, al-sabah, hisham, nazer, riyadh, architect, distortion, deeply, basix, bas, cultural, unjustified, deflect, realism, petronas, spoil, prosperity, advice, deflationary, fan, countenance, stability., abdul, rachman, ramly, 9-1/4, plough, 7-1/4, schlumberger, slb, rid, mmc, disturb, subdue, blip, encouraging, opec-led, srv, third-quarter, lasmo, billlion, trillium, transamerica, drummond, oilman, upsurge, speedy, armor, bilion, unnecessary, lpg, successor, minimize, perez, kharg, toy, coeur, d'alene, deduction, praise, issuer, bk, height, trace, pat, carney, distort, canadian-u.s., flaw, lunch, shut-in, potash, vow, downstream, corpus, christi, depositor, 20s, abundance, eager, foolish, foolishness., doing., testified, rack, amazing, japanese-made, 14th, traveler, nov., 30-year, corresponding, ivaco, 1-1/4, year., indebtedness, smooth, non-manufacturing, vice-foreign, zhou, nan, six-monthly, rotating, topple, fatal, unpopular, nakasone., flare, faction, today., ammunition, rei, shiratori, smoulder, nail, coffin, grave, hutchison, whampoa, discriminate, impatience, mede, akzo, akzo.as, signing, predatory, hit.t, kilobit, dram, oki, amortisation, compound, delicate, pain, cheung, sq, aims., ammonia, electromagnetic, categorically, rhetoric, terra, unabated, beyond., inflation., semiconducter, saver, kentucky, cntr, pearson, trustco, ceremony, welcoming, government-owned, verge, avery, escape, mlc, elk, sympathetic, discharge, elgin, captive, beneath, getty, nymex, shrug, underpin, hartford, quarter-point, mcculley, 26/27, aubrey, lanston, fomc, liro, pass., elizabeth, reiner, line., foreseeable, non-strategic, policymaker, industrialisation, viewpoint, debt-equity, six-member, g.c, goh, 5-1/16, 4-13/16, re-invest, tata, setter, bombay, enthusiastic, macsharry, punt, kearney, peop, fortnightly, engagement, 30-69, 30-124, 70-88, 125-150, 89-123, 151-173, 124-150, 174-182, 151-349, 183-349, 350-360, mtrc, von, cil, prescribed, 62-3/4, 83-1/8, 54-7/8, opertation, fos, capcity, mlotok, bunch, shaken, rough, fluctuating, post-budget, prt, henceforth, oil-related, prt-exempt, reallocation, tidy, incorrectly, ammendment, gareth, lewi, davy, mackenzie, edinburgh, osprey, arbroath, reward, bootle, safety-first, 9-11/16, simmond, electorate, tomrorow, one-point, analyse, small-print, 10-1/2, gel, pln, house-ordered, imports., pdvsa-champlin, eventuality, maturation, adapingthe, hydro-treating, difficultiesand, 80-85, ahme, wainco, wol, grandmarais, prspect, jefferson, frion, tweedel, perforation, untested, fhl, oapec, al-wattari, /oapec/opec, optimal, unviable, high-cost, full-fledged, euro-arab, allotment, anita, sar, venezuela-ecuador, fernando, alvite, remit, quito, creation, non-north, community/oapec/opec, geography, antonio, domenici, flawed, firstcorp, fcr, leather, reinveste, top-level, peaceful, al-khalifa, 13-nation, al-anba, less., opt, baht, mismatch, 10-3/8, lowering, mid-1987, dlrs/barrel, tapi, tradeable, aomi, mayor, roel, dunnen, twinned-port, drsd.f, longer-dated, routinely, hiring, platinum, rebel, handy, harman, pson.l, spr, oesterreichische, mood, saint, area., customarily, recording, well., gatt-approved, counter-reaction, threshhold, textile-state, review., bus, 20-month, neyra, earnng, coinage, nation-wide, profile, distinction, saf, essf.pa, sur, 1985-86, emhart, emh, chiefly, wrought, cenergy, crg, canterra, scotian, east-southeast, halifax, meter, lacey, mcentee, mcginley, karnosky, materialize, widerange, weave, florio, counterfeit, copyright, subversion, customs-cleared, yen/dollar, homeland, shiv, shanker, herbal, usher, balancing, newly-established, ke, stamp, new-found, underline, watchword, recklessness, dominance, explicitly, abdulaziz, al-salim, breakneck, tale, legendary, unpunished, outsized, non-tariff, octoer, high-yield, insured, surcharge, saudia, state-oil, 40-mln, micron, conviction, clear-cut, dampened, retracement, refco, connery, afterwhich, leiner, kahan, sizable, recur, automatically, pechiney, protocol, gosagroprom, vsevolod, murakhovsky, visnew, ahmed, zaki, yamani, scheduled., 13-year, over-production, measures., assemble, thrash, tihamah, abal-khail, oil-based, long-delayed, based., shipping-to-hotel, redec, fighter, taipei, lloy.l, resemble, instance, anonymous, questionnaire, carlton, ongpin, donor, failed, bank-led, libyan, crude., tripoli, inequality, covert, discretion, leon, febre, cordero, dignity, maintain., patricio, quevedo, staple, pariba, pre-finance, plight, 18-month, oil-financing, orginal, re-establishment, mid-east, renegotiate, cairo, year-old, youssri, mustapha, hosni, mubarak, salah, bassiouni, soviet-built, soviet-supplied, then-president, anwar, sadat, promised, intellectual, revolution, steering, unrealized, bonanza, simplify, legislate, mid-1984, centrally-planned, slacken, toughen, allegiance, frenzel, poeple, agreements., reluctantly, afl-cio, kirkland, president., jenkin, proponent, beset, decision-making, sovereignty, vulnerability, hut, cambridge, there., emerging., passionate, under-developed, under-employed, newfoundlander, albertan, prosperity., detial, published, trariff, ameritrust, franklin, lessening, downgrade, toned-down, r-mi., d-il., d-mo., d-ga., augusta, paolo, torino, loophole, subsidized, derivitive, eight-billion-dlr, mcdermott, mdr, sensible, subisdy, one., friends., jople, expense., disturbed, relations., aggravation, nomination, wellington, inter-agency, oil-dependency, harrington, nickle, overestimate, tantamount, syndication, osamu, oceanic, minsiter, honda, inexpensive, ingenuity, saito, lid, owen, atico, atfc, trico, tro, scurry-rainbow, strained, engere, pasta, strident, ill-advised, provocation, brinkmanship, self-centred, accommodation, tied-aid, effot, tied, intensive, 24-nation, hidden, lessor, psbr, avoidance, dual, systematic, syst, beacon, caljet, cryssen, edgington, orkin, lunday-thagard, ring-free, mock, petro-diamond, pressing, achieve., 5-6, question-and-answer, rash, quasijudicial, mechanisim, neighbor, mccain, be., mcclure, invoice, chip-maker, discouragement, 169-billion-dlr, 59-billion-dlr, matsui, novel, wanted, collaborate, bank-funded, java, wise, unsure, arifin, siregar, depreciate, inefficient, sidetrack, sepember, southerner, instil, tragedy., popularise, readjustment, negotiations., pirate, prauge, scotland, 700-acre, taupo, verging, super-computer, dawkin, bogge, protectionist., contemplative, ago., matter., baseless, saddam, hussein, over-reliance, apea, benbow, derive, oil-generated, 1992/93, undiscovered, 1980-84, non-middle, mcivor, super-giant, home-country, non-discriminatory, meare, /exxon, uncouple, uncoupling, taboo, pietsch, re-emerging, curve, accomodate, josef, koerner, ifo-institut, wan, ncso, tsomu, hata, neglect, rollback, practice., cracker, undamaged, ingolstadt, lavera, nowruz, rubble., deprive, ruler, ardeshir, month-long, lull, dresdn, bradstreet, capitalisation, donut, stifled, samaila, mamman, micro-chip, utmost, masaji, yamamoto, renege, diminishing., nipn.t, schultz, dram.o, rock-bottom, rebuttal, strange, publicize, tonka, tka, mcd, seismic, sfb, zero-point, qassem, taqi, agcny, ina, appointing, isam, abdul-rahim, al-chalaby, subhi, yassin, khadeir, abdel-jabbar, abdel-rahim, al-asadi, baath, hamza, al-zubeidi, al-zubedei, reshuffle, realisation, freedman, fumble, unionist, krapel, persuasive, jofree, exisite, adkerson, shuffle, shakeup, inoc, appointed, incompatible, cede, noncash, rotary, scale-back, overwhelm, substitution, entirely., ludicrous, immense, non-productive, rational, 'old, rrt, profit-based, deductibility, irritant, ridden, redouble, cut-rate, revitalise, barring, bitterly, negate, secondly, thirdly, collectively, davo, canada/u., concepcion, shine, quantitative, bae, 3.60/70, 3.75/85, openness, round., nt, timetable, ex-im, morton, draugen, rd.a, northermost, 240-270, 300-meter, single-leg, gravity-base, subsea, reservoir, buoy-loading, 3p, ch, nine-member, sudan, sudanese, add-need, crunch, czechoslovakia, soviet-bloc, democratic-controlled, bonker, highly-sensitive, optima, credit-card, pei-yuan, chia, mastercard, two-to-one, braddock, ones., melbourne, heavy-handed, japan/u., provident, trout, a14-8-89-3, w5m, northstar, tricentrol, vicinity, peanut, spice, tomato, puree, oil-tax, mid-continent, taxpayer., nic, scream, cerier, impediment, competiveness, doorstep, well-placed, fashionable, japan-bashing, nic-bashing, chandross, incipient, woong, chien-shien, big-ticket, balloon, wendt, overrall, koss, exorte, two-pronged, free-trade, teeth, namibia, rundown, injurious, widening, delighted, ouput, year-to-date, interest-straining, expansionist, dogmatically, baird, non-prt, annex, participator, prt-paying, kittiwake, corner, misguided, product-for-product, wrench, boomerang, andean, caf, galo, montano, parra, gil., bentsen, televise, abbey, almy, jointly-owned, deliberately, rhone-poulenc, drawback, laiohe, 140-well, 1979-81, anytime, comecon, soviet-led, non-recognition, maslen, no., zdzislaw, kuroski, questions., presented., ec-comecon, first-ever, goc, amauligak, mud, shoreline, barite, naturally, akzo-dupont, breaking, dutch-made, disputed, aramid, mnco, 20-member, thinh, channels., inducement, re-negotiating, dillard, american-caught, pollock, standby, infant, assset, comerica, s-k-i, probability, mortgage-backed, 7-3/8, amidst, dalian, txc, galaxy, fnb, frame, arbitrary, them., globalization, perspective, r.c, indexation, abdul-aziz, mana, al-oteiba, alexandria, 8-1/4, keller, government., gravity, loan-to-price, one-eighth, adjustable-rate, memotec, quarters., cnn, careful., anchorage, rospatch, cano, pessimism, naba., calender, 85-15, chase-amp, yannis, whittaker, wkr, whittak, liu, 11-1-1, fa, hwhh.hk, wonnacott, knotty, economics, univerity, coutervailing, natw, bcs.l, mdbl.l, staunchly, 8-3/4, 2004/08, 134-12/32, inexorable, delineation, newfoundland, economicly, terra-nova, hibernia, graven, flank, parex, foulke, strenuous, riase, rotberg, rah, woon, increases., pure, 5.63-65, 5.59-61, homeless, gigantic, napo, hardest-hit, pipelline, ande, brancho, corpse, bracho, lara, landslides., cayambe, editor, adjustable, dibona, unanimity, 3-mo, 6-mo, bond-equivalent, stopout, non-competitive, santana, upco, boone, heady, autobiography, sergey, frolov, amtorg, u.s.-ussr, post-detente, teach, shenzhen, strong-armed, recalcitrant, wolffe, marketeer, sneak, non-american, matt, aizawa, outfox, donovan, mmi, k.k, opens., communism, foreign-made, urgency., megabit, thorny, sia, are., stimulative, zaid, al-nahayan, nazir, viste, palestinian, 6-1/2-year-old, battlefield, 2.25p, creditanstalt-bankverein, phrase, jumardi, jukardi, hardjoko, seputro, megabank, troublesome, flagging, inflation-free, suggested., misgiving, will., libor, unacceptably, seaga, bno.to, co-head, interest-rate, ill-will, teran, tx.n, repaid, 180-day, caracas-based, rafael, velasco, point/oil, sandi, haber, sweeney, halliburton, vishnu, diversife, businesess, favorite, horde, gaspar, choosing, swarup, cabv.vi, hanne, androsch, re-confirm, disassociate, differentials., long-held, responsibly, tragic, tableland, 4-36-2-10w2, 17/64, 20/64, spacing, srb, influx, m-4, underperforme, 32nd, one-billion, near-instant, downpayment, bellwether, 10-9-7/8, significance., materialises., disquiet, politician, westminister, jordan-petrocanada, amman, nra, pciac, al-khatib, towe, 3-5, retaliation., concessions., hesitant, reasons., speaking, piracy, puchas, eia, despatch, overwhelming, democratic-sponsored, moderated, democratic-led, imec, france., advantage., jean-baptiste, doumeng, interagra, lent, propensity, regrettably, aturo, maracaibo, guayaquil, cnooc, lufeng, 13-1-1, stationery, pazzionotto, recurrent, longstanding, peterson, peckford, formula., transpire., dissociate, ability., lucky., semi, s.africa, gradin, black-ruled, front-line, anglo-dutch, p.j, hoenman, hair, decision., musk-oxen, inadquate, dispite, solv-ex, solv, up-front, mcmurray, athabasca, powerine, selm-societa, energia, priolo, 15th, 28th, 140-150, negative-netback, garrone, quirico, isab/garrone, mellili, 20-25th, siracusa, distillation, berre, l'etang, raffinage, cfr, visbreaker, bbl/day, outlook-ecopetrol, franciso, chona, samudio, arauca, narvaez, limon, hockin, clearcut, frightening, 'protectionism, balanced., assam, pre-equity, faithfully, unsellable, knock-down, legally, chronic, petrobra, suez-mediterranean, sedi, kerir, wilfred, wae, bmd, dww, soviet-w, east-west, stein, apholte, canadaina, sponsorship, receivables, calmness, reigning, minsitry, colon, bywater, lightweights., forego, antidumping, industory, closed-minister, quota., flashpoint, early., provincially, axworthy, harrassment, bumble, whatever., ming-yi, zhao, ziyang, samsung, mob.n, cmte, committess, tic, idly, studied., sector-specific, kid, non-canadian, morse, eali, foreign-based, liabilite, cmca, rediscount, 26-week, inseperable, re-negotiate, punte, ludolf, georg, wartenberg, cooling, watchfulness, moneyline, d-tex, hundre, weston, bkb, month-end, avy, 6-5/8, debt-burdened, prior-year, mariano, washington-based, mcc, al-qaba, rosemary, mcfadden, stave, u.s.-china, figure., alone., cobanco, cbco, bfd, larsen, blender, e.b.i, esquire, ee, obod, clri, cinram, o'malley, hnh, limp, hail, saviour, pace., 45-50, 30-40, fgrp, phi, all-star, novebmer, bdm, mrdn, coleco, clo, copany, clc, cabbage, handel, dahlberg, dahl, idbx, armr, readdress, yergin, cera, mizrahi, bpd., sprigg, bijan, moussavar-rahmani, torchmark, tmk, debenure, techamerica, tch, ka-shing, gsw, lana, mccall, mayf, alatenn, atng, munsingwear, mun, gti, famous, fam, authorizerd, shrortly, likeli, cct, clever, april., moves., mid-1960, 3.7495/98, 3.7500/03, khalifa, al-thani, one-twelfth, rationalise, shoulder, responsibilite, circumstance., over-producing, tanurah, ju'aymah, two-fold, jubail, ntt, ckgh.hk, 11-21, wako, regulation-free, ingvar, calrsson, carlsson, irritate, sub-cabinet, gamut, stop-over, end-week, frustrated., free-wheeling, tight-fisted, culprit, peeve, adverserial, well-thought-out, m.p, organiaation, chao-ming, export-earner, hkeh.hk, cavendish, non-electricity, reute, sdc, cronus, buildings., tue, porx, multi-step, restructurine, hsa, whittar, dofascoxinc, bertram-trojan, investcorp, benne, marrel, juster, daewoo, wimi, strob, strb, brenco, bren, mf, skii, kapok, kpk, humanistic, 15-18, k-tron, ktii, pdo, frm, duro-test, dur, internchange, isbj, 8-1/3, nesp, phcc, mcry, benguet, i.m., imsi, muo, jcb, payble, harley-davidson, hdi, cvgi, thunander, thdr, minneosta, dpcz, sigi, ziering, annal, ziere, immunological, dunkin, dunk, cccr, off-hour, debut, mckiernan, capozza, efp, trading., up-right, upri, self-confidence, post-war, crossborder, population., imposing, albertson, intec, intk, hydron, hyd, syntech, interenational, syne, cour, ltlp, wht, reit, raut, realmerica, raco, muncipal, mfm, pittway, pry, petrolite, plit, kapsis, kaya, erdem, seabe, inactive, telecredit, tcrd, lasr, life-health, pofit, shr/avg, kenca, bkne, whipple, comalco, cmac., goldendale, chip-export, usefulness, grey-market, fison, fisn.l, 24.3p, 3.95p, 3.34p, horticulture, tito, ayal, ayala, nueva, teapa, salina, lazaro, stcl.l, 15.9p, 4.5p, impute, bougainville, buva., iron-ore, argyle, unrealised, trans-shippe, communism., anti-communist, centralled, lever, ashton-tate, 25p, 575p, transponder, equitorial, inabiliuty, agreed-upon, oblitation, cross-default, earth, conteol, under-secretary, eishiro, sub-cabinet-level, antagonise, condemnation, weill, 30-123, administration., iif, horst, schulmann, orgnaization, levelling, finance., vak, zentralsparkasse, kommerzialbank, wien, hellmuth, klauh, genossenschaftliche, zentralbank, pale, oesterreichischen, sparkassen, girv.vi, haumer, erste, spar-casse-bank, mntl, bank-wilmington, no-fee, boatman, venezula, 1987-89, minneaplois, competitive., cardholder, royal/bank, tcf, ionterest, 5-7/8, upward., bank-houston, bacp, ncf, fannie, fnm, crowd, squaring, 30-273, 30-89, 274-294, 90-100, 295-344, 101-181, 345-360, 182-195, 196-274, 275-295, 296-360, 15-78, 15-81, 79-85, 82-88, 89-360, 89-174, 175-180, 181-360\n"
     ]
    }
   ],
   "source": [
    "print(\", \".join(vocabulary))"
   ]
  },
  {
   "cell_type": "markdown",
   "metadata": {},
   "source": [
    "You can see how many times article $i$ contains word $j$ using"
   ]
  },
  {
   "cell_type": "code",
   "execution_count": 4,
   "metadata": {},
   "outputs": [
    {
     "name": "stdout",
     "output_type": "stream",
     "text": [
      "4\n"
     ]
    }
   ],
   "source": [
    "i, j = 40, 2\n",
    "print(data[i,j])"
   ]
  },
  {
   "cell_type": "markdown",
   "metadata": {},
   "source": [
    "You can see which class the $i$th article belongs to using"
   ]
  },
  {
   "cell_type": "code",
   "execution_count": 5,
   "metadata": {},
   "outputs": [
    {
     "name": "stdout",
     "output_type": "stream",
     "text": [
      "0\n"
     ]
    }
   ],
   "source": [
    "print(labels[i])"
   ]
  },
  {
   "cell_type": "markdown",
   "metadata": {},
   "source": [
    "For instance, by running"
   ]
  },
  {
   "cell_type": "code",
   "execution_count": 6,
   "metadata": {},
   "outputs": [
    {
     "name": "stdout",
     "output_type": "stream",
     "text": [
      "Occurrences: 2\n",
      "Class: earn\n",
      "Word: shareholder\n"
     ]
    }
   ],
   "source": [
    "print(\"Occurrences:\", data[0,10])\n",
    "print(\"Class:\", class_names[labels[0]])\n",
    "print(\"Word:\", vocabulary[10])"
   ]
  },
  {
   "cell_type": "markdown",
   "metadata": {},
   "source": [
    "you can see that the 11th word appears twice in the first document, the first document belongs to the class \"earn\", and the 11th word is \"shareholder\"."
   ]
  },
  {
   "cell_type": "markdown",
   "metadata": {},
   "source": [
    "The following function randomly selects a subset of the data."
   ]
  },
  {
   "cell_type": "code",
   "execution_count": 7,
   "metadata": {},
   "outputs": [],
   "source": [
    "def sample_indices(labels, *num_per_class):\n",
    "    \"\"\"\n",
    "    Returns randomly selected indices. It will return the specified number of indices for each class.\n",
    "    \"\"\"\n",
    "    indices = []\n",
    "    for cls, num in enumerate(num_per_class):\n",
    "        cls_indices = np.where(labels == cls)[0]\n",
    "        indices.extend(np.random.choice(cls_indices, size=num, replace=False))\n",
    "    return np.array(indices)"
   ]
  },
  {
   "cell_type": "markdown",
   "metadata": {},
   "source": [
    "For instance, to get one sample from the first class, two from the second, three from the third, and four from the fourth, you can run:"
   ]
  },
  {
   "cell_type": "code",
   "execution_count": 8,
   "metadata": {},
   "outputs": [
    {
     "name": "stdout",
     "output_type": "stream",
     "text": [
      "Returned indices: [ 83 261 329 413 590 409 726 730 799 620]\n",
      "Samples:   (0, 13)\t1\n",
      "  (0, 15)\t1\n",
      "  (0, 19)\t3\n",
      "  (0, 20)\t1\n",
      "  (0, 24)\t1\n",
      "  (0, 73)\t2\n",
      "  (0, 105)\t1\n",
      "  (0, 107)\t5\n",
      "  (0, 157)\t1\n",
      "  (0, 331)\t1\n",
      "  (0, 458)\t4\n",
      "  (0, 467)\t1\n",
      "  (0, 1514)\t1\n",
      "  (0, 6052)\t1\n",
      "  (1, 5)\t7\n",
      "  (1, 13)\t2\n",
      "  (1, 14)\t1\n",
      "  (1, 15)\t1\n",
      "  (1, 17)\t1\n",
      "  (1, 23)\t4\n",
      "  (1, 26)\t1\n",
      "  (1, 30)\t5\n",
      "  (1, 32)\t1\n",
      "  (1, 37)\t1\n",
      "  (1, 40)\t2\n",
      "  :\t:\n",
      "  (9, 332)\t1\n",
      "  (9, 391)\t1\n",
      "  (9, 434)\t1\n",
      "  (9, 435)\t1\n",
      "  (9, 441)\t1\n",
      "  (9, 442)\t1\n",
      "  (9, 443)\t2\n",
      "  (9, 485)\t2\n",
      "  (9, 682)\t1\n",
      "  (9, 703)\t2\n",
      "  (9, 754)\t3\n",
      "  (9, 822)\t3\n",
      "  (9, 934)\t1\n",
      "  (9, 984)\t4\n",
      "  (9, 1122)\t1\n",
      "  (9, 1502)\t1\n",
      "  (9, 1588)\t1\n",
      "  (9, 1696)\t1\n",
      "  (9, 1848)\t1\n",
      "  (9, 2164)\t1\n",
      "  (9, 2302)\t1\n",
      "  (9, 2552)\t1\n",
      "  (9, 3013)\t1\n",
      "  (9, 3646)\t3\n",
      "  (9, 4646)\t1\n",
      "Corresponding classes: [0 1 1 2 2 2 3 3 3 3]\n"
     ]
    }
   ],
   "source": [
    "indices = sample_indices(labels, 1, 2, 3, 4)\n",
    "print(\"Returned indices:\", indices)\n",
    "print(\"Samples:\", data[indices])\n",
    "print(\"Corresponding classes:\", labels[indices])"
   ]
  },
  {
   "cell_type": "raw",
   "metadata": {},
   "source": []
  },
  {
   "cell_type": "markdown",
   "metadata": {},
   "source": [
    "## 3. k-NN Implementation (4 Marks, Normal)\n",
    "\n",
    "Now, you will need to implement a k-NN classifier by filling the code below.\n",
    "This function should support two types of distance measures: Euclidean distance and cosine distance (defined as 1 - cosine similarity). It should take a set of training samples, a user-specified neighbour number, a distance option, and features of a set of testing samples as the input.\n",
    "It should return the predicted classes for the input set of testing samples.\n",
    "\n",
    "In order to get 4 marks, you are asked to implement the k-NN classifier from scrach without relying on any machine learning library, particularly the distance calculation. But you are allowed to research NumPy functions relating to sorting. If you decide to use existing distance implementation from libraries, e.g., `sklearn.metrics.pairwise_distances` imported as `cdist`, you can get at most 3 marks.\n",
    "\n",
    "**Your implementation must NOT make use of Python loops over individual samples or features**.\n",
    "You should use functions that operate on whole matrices, as this will be much faster than looping in Python.\n",
    "Each experiment below is expected to take no more than 2 minutes to run."
   ]
  },
  {
   "cell_type": "code",
   "execution_count": 9,
   "metadata": {},
   "outputs": [],
   "source": [
    "import scipy.stats\n",
    "from scipy.sparse import csr_matrix\n",
    "\n",
    "def knn_classify(test_samples, training_data, training_labels, metric=\"euclidean\", k=1):\n",
    "    \"\"\"\n",
    "    Performs k-nearest neighbour classification on the provided samples,\n",
    "    given training data and the corresponding labels.\n",
    "    \n",
    "    test_samples: An m x d matrix of m samples to classify, each with d features.\n",
    "    training_data: An n x d matrix consisting of n training samples, each with d features.\n",
    "    training_labels: A vector of size n, where training_labels[i] is the label of training_data[i].\n",
    "    metric: The metric to use for calculating distances between samples.\n",
    "    k: The number of nearest neighbours to use for classification.\n",
    "    \n",
    "    Returns: A vector of size m, where out[i] is the predicted class of test_samples[i].\n",
    "    \"\"\"\n",
    "    if(metric == \"euclidean\"):\n",
    "        m = test_samples.shape[0]\n",
    "        n = training_data.shape[0]\n",
    "        \n",
    "        # Calculate an m x n distance matrix.\n",
    "        first =(test_samples @ test_samples.T).diagonal()\n",
    "        first = np.array([first])\n",
    "        first = first.T\n",
    "        first = (np.tile(first,(1,n)))\n",
    "        first = csr_matrix(first)\n",
    "        \n",
    "        second = (test_samples@training_data.T) \n",
    "        second = 2* second\n",
    "        \n",
    "        third = (training_data @ training_data.T).diagonal()\n",
    "        third = np.array([third])\n",
    "        third = np.tile(third,(m,1))\n",
    "        third = csr_matrix(third)\n",
    "        \n",
    "        pairwise_distance = first-second+third\n",
    "        distance= np.sqrt(pairwise_distance.todense())  \n",
    "#         print(pairwise_distance)\n",
    "\n",
    "        # Find the k nearest neighbours of each samples as an m x k matrix of indices.\n",
    "        nearest_neighbours = np.argsort(distance,axis =1)[:,:k]\n",
    "#         print(nearest_neighbours)\n",
    "        \n",
    "        # Look up the classes corresponding to each index.\n",
    "        nearest_labels = training_labels[nearest_neighbours]\n",
    "#         print(nearest_labels)\n",
    "\n",
    "        # Return the most frequent class on each row.\n",
    "        # Note: Ensure that the returned vector does not contain any empty dimensions.\n",
    "        # You may find the squeeze method useful here.\n",
    "        mode,count = scipy.stats.mode(nearest_labels,axis =1)\n",
    "        frequent = np.squeeze(mode)\n",
    "        \n",
    "        return frequent\n",
    "    else:\n",
    "        m = test_samples.shape[0]\n",
    "        n = training_data.shape[0]\n",
    "        first =(test_samples @ test_samples.T).diagonal()\n",
    "        first = np.array([first])\n",
    "        first = first.T\n",
    "        first = np.sqrt(first)\n",
    "        \n",
    "        \n",
    "        second = (training_data @ training_data.T).diagonal()\n",
    "        second = np.array([second])\n",
    "        second = np.sqrt(second)\n",
    "\n",
    "        upper = test_samples@training_data.T\n",
    "        bottom = first @ second\n",
    "        final = (upper.todense())/bottom\n",
    "        one = np.array([1])\n",
    "        one = np.tile(one,(m,1))\n",
    "        one = np.tile(one,(1,n))\n",
    "        final = one-final\n",
    "        final = csr_matrix(final)\n",
    "        \n",
    "        nearest_neighbours = np.argsort(final.todense(),axis =1)[:,:k]\n",
    "#         print(nearest_neighbours)\n",
    "        \n",
    "        # Look up the classes corresponding to each index.\n",
    "        nearest_labels = training_labels[nearest_neighbours]\n",
    "#         print(nearest_labels)\n",
    "\n",
    "        # Return the most frequent class on each row.\n",
    "        # Note: Ensure that the returned vector does not contain any empty dimensions.\n",
    "        # You may find the squeeze method useful here.\n",
    "        mode,count = scipy.stats.mode(nearest_labels,axis =1)\n",
    "        frequent = np.squeeze(mode)\n",
    "        \n",
    "        return frequent"
   ]
  },
  {
   "cell_type": "markdown",
   "metadata": {},
   "source": [
    "## 4. Experiments (12 Marks in Total)\n",
    "\n",
    "Use your k-NN function to perform the following experiments.\n",
    "\n",
    "### Experiment 1 (4 Marks, Easy)\n",
    "\n",
    "Randomly select 80 articles per class for training, and use the remaining articles for testing.\n",
    "Fix a neighbour number setting as you see fit. Perform k-NN classification using the Euclidean distance and test it.\n",
    "\n",
    "Repeat this process 20 times (trials).\n",
    "Calculate the mean and standard deviation of the testing accuracies. Print out the mean and standard deviation."
   ]
  },
  {
   "cell_type": "code",
   "execution_count": 74,
   "metadata": {},
   "outputs": [
    {
     "name": "stdout",
     "output_type": "stream",
     "text": [
      "[297, 284, 304, 293, 288, 300, 303, 298, 288, 295, 294, 299, 284, 292, 308, 290, 297, 298, 286, 301]\n",
      "[23, 36, 16, 27, 32, 20, 17, 22, 32, 25, 26, 21, 36, 28, 12, 30, 23, 22, 34, 19]\n",
      "[0.37125, 0.355, 0.38, 0.36625, 0.36, 0.375, 0.37875, 0.3725, 0.36, 0.36875, 0.3675, 0.37375, 0.355, 0.365, 0.385, 0.3625, 0.37125, 0.3725, 0.3575, 0.37625]\n",
      "mean : 0.36868749999999995\n",
      "standard deviation for euclidean: 0.008277180603925474\n"
     ]
    }
   ],
   "source": [
    "# Your code goes here\n",
    "correct = []\n",
    "wrong = []\n",
    "accuricies = []\n",
    "for i in range(20):\n",
    "    indices = sample_indices(labels, 80, 80, 80, 80)\n",
    "#     print(\"Returned indices:\", indices)\n",
    "    remain = list(set(range(800))-set(indices))\n",
    "    \n",
    "    predicted = knn_classify(data[indices],data[remain],labels[remain],metric=\"euclidean\",k=1)\n",
    "    i=0\n",
    "    correct_predict = 0\n",
    "    wrong_predict = 0\n",
    "    for label in labels[indices]:\n",
    "        if(label == predicted[i]):\n",
    "            correct_predict += 1\n",
    "        else:\n",
    "            wrong_predict += 1\n",
    "        i+=1\n",
    "    correct.append(correct_predict)\n",
    "    wrong.append(wrong_predict)\n",
    "    accuricies.append(correct_predict/800)\n",
    "print(correct)\n",
    "print(wrong)\n",
    "print(accuricies)\n",
    "mean =0\n",
    "standard_deviation = 0\n",
    "for i in accuricies:\n",
    "    mean +=i\n",
    "mean = mean/20\n",
    "print(\"mean :\", mean)\n",
    "for i in range(20):\n",
    "    standard_deviation += np.power((accuricies[i]-mean),2)\n",
    "standard_deviation = np.sqrt(standard_deviation/20)\n",
    "print(\"standard deviation for euclidean:\",standard_deviation)\n"
   ]
  },
  {
   "cell_type": "markdown",
   "metadata": {},
   "source": [
    "Use the same neighbour number, but use the cosine distance instead of the Euclidean distance.\n",
    "Repeat the same experiment.\n",
    "\n",
    "Print out the mean and standard deviation."
   ]
  },
  {
   "cell_type": "code",
   "execution_count": 75,
   "metadata": {},
   "outputs": [
    {
     "name": "stdout",
     "output_type": "stream",
     "text": [
      "[309, 308, 306, 312, 310, 314, 309, 308, 314, 311, 311, 304, 310, 311, 314, 314, 313, 313, 314, 309]\n",
      "[11, 12, 14, 8, 10, 6, 11, 12, 6, 9, 9, 16, 10, 9, 6, 6, 7, 7, 6, 11]\n",
      "[0.38625, 0.385, 0.3825, 0.39, 0.3875, 0.3925, 0.38625, 0.385, 0.3925, 0.38875, 0.38875, 0.38, 0.3875, 0.38875, 0.3925, 0.3925, 0.39125, 0.39125, 0.3925, 0.38625]\n",
      "mean:  0.40680937500000003\n",
      "standard deviation for cosine : 0.027677510488425427\n"
     ]
    }
   ],
   "source": [
    "# Your code goes here\n",
    "correct = []\n",
    "wrong = []\n",
    "accuricies = []\n",
    "for i in range(20):\n",
    "    indices = sample_indices(labels, 80, 80, 80, 80)\n",
    "#     print(\"Returned indices:\", indices)\n",
    "    remain = list(set(range(800))-set(indices))\n",
    "    \n",
    "    predicted = knn_classify(data[indices],data[remain],labels[remain],metric=\"cosine\",k=1)\n",
    "    i=0\n",
    "    correct_predict = 0\n",
    "    wrong_predict = 0\n",
    "    for label in labels[indices]:\n",
    "        if(label == predicted[i]):\n",
    "            correct_predict += 1\n",
    "        else:\n",
    "            wrong_predict += 1\n",
    "        i+=1\n",
    "    correct.append(correct_predict)\n",
    "    wrong.append(wrong_predict)\n",
    "    accuricies.append(correct_predict/800)\n",
    "print(correct)\n",
    "print(wrong)\n",
    "print(accuricies)\n",
    "for i in accuricies:\n",
    "    mean +=i\n",
    "mean = mean/20\n",
    "print(\"mean: \", mean)\n",
    "for i in range(20):\n",
    "    standard_deviation += np.power((accuricies[i]-mean),2)\n",
    "standard_deviation = np.sqrt(standard_deviation/20)\n",
    "print(\"standard deviation for cosine :\",standard_deviation)\n"
   ]
  },
  {
   "cell_type": "markdown",
   "metadata": {},
   "source": [
    "Explain in your report which distance measure gives better performance and analyse the reason. "
   ]
  },
  {
   "cell_type": "markdown",
   "metadata": {},
   "source": [
    "### Experiment 2 (4 Marks, Easy)\n",
    "\n",
    "Using the distance measure that you found performs better in Experiment 1.\n",
    "\n",
    "Randomly select 80 articles per class for training, and use the remaining articles for testing. Perform k-NN classification with the neighbour number $k$ varying from 1 to 50.\n",
    "\n",
    "For each values of $k$, repeat the training process by 20 trials and record the average training error rates and standard deviation.\n",
    "\n",
    "Do the same for testing errors."
   ]
  },
  {
   "cell_type": "code",
   "execution_count": 24,
   "metadata": {
    "scrolled": true
   },
   "outputs": [
    {
     "name": "stdout",
     "output_type": "stream",
     "text": [
      "[0.0, 0.002047265625, 0.0030330078125000003, 0.0037134765625, 0.0048994140625, 0.0058468750000000005, 0.0049791015625, 0.0047849609375, 0.006991015625, 0.0063845703125, 0.006837890625000001, 0.007709375000000001, 0.0068609375, 0.00724453125, 0.008034375, 0.0073546875, 0.008289257812499999, 0.0068568359375, 0.007093164062500001, 0.0076548828125000004, 0.00827890625, 0.008171679687499999, 0.0077769531250000004, 0.0076150390625, 0.0080751953125, 0.008191796875, 0.008554296875, 0.0088384765625, 0.00925625, 0.0085064453125, 0.009171875000000001, 0.00885859375, 0.008618359375, 0.009617968749999999, 0.009647265624999998, 0.008500390625, 0.00941640625, 0.009371093749999998, 0.009775390625, 0.009692968750000001, 0.0101857421875, 0.0098982421875, 0.009701171875, 0.0107421875, 0.010231249999999999, 0.0111236328125, 0.009273828125, 0.010490429687499999, 0.010232617187500001, 0.010526562499999998]\n",
      "[0.0, 0.0024457132031599446, 0.002798155622305522, 0.0033514340973537283, 0.0037234224675023004, 0.004346628195306037, 0.003810145985277613, 0.003866269156665808, 0.004873298700550889, 0.004906355271807114, 0.005204689521786694, 0.005740088415518663, 0.004996120691924515, 0.00543641315548662, 0.005714634373502479, 0.005333911776750984, 0.006066305172233291, 0.005172176386026706, 0.005278634743184169, 0.006278644749416455, 0.006342262776910755, 0.006303375670377457, 0.005818660477234092, 0.005831842820628706, 0.005960288830024261, 0.0060041244788308695, 0.005957077836126472, 0.006362634401367902, 0.006920179830675565, 0.006379786785111373, 0.006851006413167444, 0.006860777591371616, 0.006736750324460642, 0.007177016192715254, 0.007664790656431081, 0.006823074400606025, 0.007221934456495234, 0.007520059930000359, 0.007149458991631274, 0.00734192756636221, 0.007426873131985879, 0.007281359290142466, 0.006861783606564159, 0.007815387612933662, 0.007837339750099743, 0.008095914593467556, 0.007263017598117019, 0.007562345456966066, 0.007643528228445622, 0.00786094135757237]\n"
     ]
    }
   ],
   "source": [
    "# Your code goes here\n",
    "# Your code goes here\n",
    "averages = []\n",
    "sds = []\n",
    "for j in range(50):\n",
    "    correct = []\n",
    "    wrong = []\n",
    "    training_error = []\n",
    "    for index in range(20):\n",
    "        i=0\n",
    "        training = sample_indices(labels, 80, 80, 80, 80)\n",
    "#     print(\"Returned indices:\", indices)\n",
    "        testing = list(set(range(800))-set(training))\n",
    "    \n",
    "        predicted = knn_classify(data[training],data[training],labels[training],metric=\"cosine\",k = j+1)\n",
    "        correct_predict = 0\n",
    "        wrong_predict = 0\n",
    "        for label in labels[training]:\n",
    "            if(label == predicted[i]):\n",
    "                correct_predict += 1\n",
    "            else:\n",
    "                wrong_predict += 1\n",
    "            i+=1\n",
    "            correct.append(correct_predict)\n",
    "            wrong.append(wrong_predict)\n",
    "            training_error.append(wrong_predict/800)\n",
    "    averages.append(np.average(training_error))\n",
    "    sds.append(scipy.stats.tstd(training_error))\n",
    "print(averages)\n",
    "print(sds)"
   ]
  },
  {
   "cell_type": "markdown",
   "metadata": {},
   "source": [
    "Produce an error bar plot showing the training error rate for each $k$ here:"
   ]
  },
  {
   "cell_type": "code",
   "execution_count": 25,
   "metadata": {},
   "outputs": [
    {
     "data": {
      "image/png": "[encoded data removed]",
      "text/plain": [
       "<Figure size 1440x720 with 1 Axes>"
      ]
     },
     "metadata": {
      "needs_background": "light"
     },
     "output_type": "display_data"
    }
   ],
   "source": [
    "# Your code goes here\n",
    "from matplotlib import pyplot as plt\n",
    "plt.figure(figsize=(20,10))\n",
    "x = np.arange(1,51,1)\n",
    "# print(x)\n",
    "y = averages\n",
    "# print(y)\n",
    "plt.errorbar(x, y,yerr =sds)\n",
    "plt.xlabel('K_value')\n",
    "plt.ylabel('Training_error rate')\n",
    "plt.title('Training Error Rate depends on K value')\n",
    "plt.show()"
   ]
  },
  {
   "cell_type": "markdown",
   "metadata": {},
   "source": [
    "Produce your testing error bar plot here:"
   ]
  },
  {
   "cell_type": "code",
   "execution_count": 79,
   "metadata": {
    "scrolled": true
   },
   "outputs": [
    {
     "name": "stdout",
     "output_type": "stream",
     "text": [
      "[0.011136458333333335, 0.009361328124999999, 0.010751432291666667, 0.010980078124999999, 0.009609895833333335, 0.011496744791666668, 0.011622786458333333, 0.011063151041666667, 0.012196614583333334, 0.01094921875, 0.011701302083333335, 0.012167057291666667, 0.012007161458333334, 0.012734635416666666, 0.011088932291666666, 0.012350130208333332, 0.013300911458333333, 0.01265625, 0.012447135416666668, 0.012734635416666666, 0.012440494791666668, 0.013199479166666667, 0.012663411458333333, 0.012888802083333333, 0.013719010416666665, 0.013265625, 0.012778776041666667, 0.013207161458333333, 0.013630078125, 0.013872916666666664, 0.013387369791666668, 0.014658593749999999, 0.014140494791666666, 0.0152765625, 0.01421015625, 0.014309244791666667, 0.015292057291666664, 0.015113932291666667, 0.0156484375, 0.015677734375, 0.01488984375, 0.015266145833333335, 0.015439713541666667, 0.015528124999999999, 0.016648567708333332, 0.015929166666666664, 0.016264322916666667, 0.01569205729166667, 0.0172109375, 0.015193229166666666]\n",
      "[0.0077313182957501085, 0.008787867063065823, 0.008351319365208169, 0.008274517515399808, 0.007637437877223902, 0.008709051106858129, 0.008116114206934633, 0.008499087798321807, 0.00914465286411707, 0.00847868195085627, 0.00902680451098536, 0.00917240981530066, 0.009628144893811731, 0.009323149837941814, 0.008647854966162523, 0.009673939554522589, 0.009767686747580953, 0.009381320142795855, 0.009517620070360302, 0.009584962616386822, 0.009597703778484592, 0.010141493625041033, 0.009359857591669931, 0.009622670264617841, 0.011084537947916443, 0.009904748888898742, 0.00963942186075568, 0.01004223718993473, 0.010340768371535148, 0.011011304357894528, 0.01051537987852609, 0.011719303911797097, 0.011315219421481885, 0.012019261621162932, 0.011148052141294358, 0.011734652850027182, 0.011206217634188966, 0.01169012273613915, 0.012009429142478475, 0.011959012340763934, 0.011484816905488821, 0.01156250253991332, 0.011915514336159491, 0.011769909161411659, 0.011816456222166576, 0.012006182139071148, 0.01251183638203828, 0.011842706447273808, 0.012487887564465894, 0.011753095537056647]\n"
     ]
    }
   ],
   "source": [
    "# Your code goes here\n",
    "# Your code goes here\n",
    "averages = []\n",
    "sds = []\n",
    "for j in range(50):\n",
    "    correct = []\n",
    "    wrong = []\n",
    "    training_error = []\n",
    "    for index in range(20):\n",
    "        i=0\n",
    "        training = sample_indices(labels, 80, 80, 80, 80)\n",
    "#     print(\"Returned indices:\", indices)\n",
    "        testing = list(set(range(800))-set(training))\n",
    "    \n",
    "        predicted = knn_classify(data[testing],data[training],labels[training],metric=\"cosine\",k = j+1)\n",
    "        correct_predict = 0\n",
    "        wrong_predict = 0\n",
    "        for label in labels[testing]:\n",
    "            if(label == predicted[i]):\n",
    "                correct_predict += 1\n",
    "            else:\n",
    "                wrong_predict += 1\n",
    "            i+=1\n",
    "            correct.append(correct_predict)\n",
    "            wrong.append(wrong_predict)\n",
    "            training_error.append(wrong_predict/800)\n",
    "    averages.append(np.average(training_error))\n",
    "    if (i ==1):\n",
    "        sumoferror =0\n",
    "        for error in training_error:\n",
    "            sumoferror += (error - averages[1])\n",
    "        sumof\n",
    "    sds.append(scipy.stats.tstd(training_error))\n",
    "print(averages)\n",
    "print(sds)"
   ]
  },
  {
   "cell_type": "code",
   "execution_count": 80,
   "metadata": {},
   "outputs": [
    {
     "data": {
      "image/png": "[encoded data removed]",
      "text/plain": [
       "<Figure size 1440x720 with 1 Axes>"
      ]
     },
     "metadata": {
      "needs_background": "light"
     },
     "output_type": "display_data"
    }
   ],
   "source": [
    "plt.figure(figsize=(20,10))\n",
    "x = np.arange(1,51,1)\n",
    "# print(x)\n",
    "y = averages\n",
    "# print(y)\n",
    "plt.errorbar(x, y,yerr =sds)\n",
    "plt.xlabel('K_value')\n",
    "plt.ylabel('Testing_error rate')\n",
    "plt.title('Testing Error Rate depends on K value')\n",
    "plt.show()"
   ]
  },
  {
   "cell_type": "markdown",
   "metadata": {},
   "source": [
    "**Remember that all graphs should have axis labels and a title.**\n",
    "\n",
    "Discuss in your report the difference between the training and testing accuracies and its indication. Analyse in your report the effect of $k$ based on this experiment. "
   ]
  },
  {
   "cell_type": "markdown",
   "metadata": {},
   "source": [
    "### Experiment 3 (4 Marks, Normal)\n",
    "\n",
    "Compare three 5-NN classifiers using cosine distance. In order to get 4 marks, you should implement the confusion matrix calculation from scrach yourself. If you decide to use existing implementation for confusion matrix calculation, you can get at most 3 marks.\n",
    "\n",
    "First, randomly select 100 articles per class and keep these as your testing samples. Set all the remaining articles as the training set."
   ]
  },
  {
   "cell_type": "code",
   "execution_count": 28,
   "metadata": {},
   "outputs": [],
   "source": [
    "# Your code goes here\n",
    "testing = sample_indices(labels, 100, 100, 100, 100)\n",
    "training = list(set(range(800))-set(testing))"
   ]
  },
  {
   "cell_type": "markdown",
   "metadata": {},
   "source": [
    "Then do the following:\n",
    "\n",
    "(1) Train the first classifier using the traning set.\n",
    "Compute the confusion matrix for the 4 classes using the testing samples.\n",
    "\n",
    "Print out the numbers of the training and testing samples belonging to each class, the $2\\times 2$ confusion matrix for each of the 4 classes, and the overall accuracy of the classifier."
   ]
  },
  {
   "cell_type": "code",
   "execution_count": 92,
   "metadata": {},
   "outputs": [
    {
     "name": "stdout",
     "output_type": "stream",
     "text": [
      "testing label class 0 : 100 ,class 1: 100 ,class 2: 100, class 3: 100\n",
      "training label class 0 : 100 ,class 1: 100 ,class 2: 100, class 3: 100\n",
      "[0 0 2 2 0 2 0 0 0 0 0 0 0 0 0 0 0 0 0 0 0 0 0 0 0 0 0 0 0 0 0 0 0 0 0 0 0\n",
      " 0 0 0 0 0 0 0 0 0 0 0 0 1 0 0 0 0 0 0 0 0 0 0 0 0 0 0 0 0 0 0 0 0 0 0 0 0\n",
      " 0 0 0 0 0 0 0 0 0 0 0 0 0 1 0 2 0 0 0 0 0 0 0 0 0 0 1 1 1 1 1 1 1 1 1 1 1\n",
      " 1 1 1 2 2 1 1 2 1 1 1 1 1 1 1 1 1 2 1 1 1 1 1 1 1 1 2 1 1 1 1 1 1 1 1 1 1\n",
      " 1 1 1 1 1 1 1 1 1 1 1 1 1 1 2 1 1 1 1 1 0 1 1 1 1 1 2 1 1 1 1 1 1 0 1 1 1\n",
      " 1 1 1 1 1 1 1 1 1 1 1 0 1 1 1 1 2 1 1 1 2 1 2 2 1 1 1 2 2 2 2 2 2 1 2 2 2\n",
      " 2 2 2 2 2 2 2 2 0 2 2 2 2 2 2 2 2 2 2 2 2 2 2 2 2 2 2 2 2 2 2 2 2 2 2 2 2\n",
      " 2 2 2 2 2 2 2 2 2 2 2 2 2 2 2 2 2 2 2 2 2 2 2 2 2 2 2 2 2 2 2 2 2 2 2 2 2\n",
      " 2 2 2 2 2 2 2 2 2]\n",
      "[[94, 4], [6, 201]]\n",
      "[[5, 96], [0, 204]]\n",
      "[[8, 98], [92, 107]]\n",
      "[[0, 0], [100, 205]]\n",
      "overall accuracy:  0.13375\n"
     ]
    }
   ],
   "source": [
    "# Your code goes here\n",
    "print(\"testing label class 0 : 100 ,class 1: 100 ,class 2: 100, class 3: 100\" )\n",
    "print(\"training label class 0 : 100 ,class 1: 100 ,class 2: 100, class 3: 100\" )\n",
    "confusion_matrix_0 =[[0,0],[0,0]]\n",
    "confusion_matrix_1 =[[0,0],[0,0]]\n",
    "confusion_matrix_2 =[[0,0],[0,0]]\n",
    "confusion_matrix_3 =[[0,0],[0,0]]\n",
    "predicted = knn_classify(data[testing],data[training],labels,metric=\"euclidean\",k =1)\n",
    "print(predicted)\n",
    "i=0\n",
    "correct = 0\n",
    "for label in labels[testing]:\n",
    "        if(label == predicted[i]):\n",
    "            correct +=1\n",
    "            if(label == 0):\n",
    "                confusion_matrix_0[0][0] +=1\n",
    "                confusion_matrix_1[1][1] +=1\n",
    "                confusion_matrix_2[1][1] +=1\n",
    "                confusion_matrix_3[1][1] +=1\n",
    "            elif(label == 1):\n",
    "                confusion_matrix_0[1][1] +=1\n",
    "                confusion_matrix_1[0][0] +=1\n",
    "                confusion_matrix_2[1][1] +=1\n",
    "                confusion_matrix_3[1][1] +=1\n",
    "            elif(label == 2):\n",
    "                confusion_matrix_0[1][1] +=1\n",
    "                confusion_matrix_1[1][1] +=1\n",
    "                confusion_matrix_2[0][0] +=1\n",
    "                confusion_matrix_3[1][1] +=1\n",
    "            elif(label == 3):\n",
    "                confusion_matrix_0[1][1] +=1\n",
    "                confusion_matrix_1[1][1] +=1\n",
    "                confusion_matrix_2[1][1] +=1\n",
    "                confusion_matrix_3[0][0] +=1\n",
    "        else:\n",
    "            if(label == 0):\n",
    "                if(predicted[i] ==1):\n",
    "                    confusion_matrix_0[1][0] +=1\n",
    "                    confusion_matrix_1[0][1] +=1\n",
    "                    confusion_matrix_2[1][1] +=1\n",
    "                    confusion_matrix_3[1][1] +=1\n",
    "                elif(predicted[i] == 2):\n",
    "                    confusion_matrix_0[1][0] +=1\n",
    "                    confusion_matrix_1[1][1] +=1\n",
    "                    confusion_matrix_2[0][1] +=1\n",
    "                    confusion_matrix_3[1][1] +=1\n",
    "                elif(predicted[i] == 3):  \n",
    "                    confusion_matrix_0[1][0] +=1\n",
    "                    confusion_matrix_1[1][1] +=1\n",
    "                    confusion_matrix_2[1][1] +=1\n",
    "                    confusion_matrix_3[0][1] +=1\n",
    "            elif(label == 1):\n",
    "                if(predicted[i] ==0):\n",
    "                    confusion_matrix_0[0][1] +=1\n",
    "                    confusion_matrix_1[1][0] +=1\n",
    "                    confusion_matrix_2[1][1] +=1\n",
    "                    confusion_matrix_3[1][1] +=1\n",
    "                elif(predicted[i] == 2):\n",
    "                    confusion_matrix_0[1][1] +=1\n",
    "                    confusion_matrix_1[1][0] +=1\n",
    "                    confusion_matrix_2[0][1] +=1\n",
    "                    confusion_matrix_3[1][1] +=1\n",
    "                elif(predicted[i] == 3):  \n",
    "                    confusion_matrix_0[1][1] +=1\n",
    "                    confusion_matrix_1[1][0] +=1\n",
    "                    confusion_matrix_2[1][1] +=1\n",
    "                    confusion_matrix_3[0][1] +=1\n",
    "            elif(label == 2):\n",
    "                if(predicted[i] ==0): \n",
    "                    confusion_matrix_0[0][1] +=1\n",
    "                    confusion_matrix_1[1][1] +=1\n",
    "                    confusion_matrix_2[1][0] +=1\n",
    "                    confusion_matrix_3[1][1] +=1\n",
    "                elif(predicted[i] == 1):\n",
    "                    confusion_matrix_0[1][1] +=1\n",
    "                    confusion_matrix_1[0][1] +=1\n",
    "                    confusion_matrix_2[1][0] +=1\n",
    "                    confusion_matrix_3[1][1] +=1\n",
    "                elif(predicted[i] == 3): \n",
    "                    confusion_matrix_0[1][1] +=1\n",
    "                    confusion_matrix_1[1][1] +=1\n",
    "                    confusion_matrix_2[1][0] +=1\n",
    "                    confusion_matrix_3[0][1] +=1\n",
    "            elif(label == 3):    \n",
    "                if(predicted[i] ==0):\n",
    "                    confusion_matrix_0[0][1] +=1\n",
    "                    confusion_matrix_1[1][1] +=1\n",
    "                    confusion_matrix_2[1][1] +=1\n",
    "                    confusion_matrix_3[1][0] +=1\n",
    "                elif(predicted[i] == 1):\n",
    "                    confusion_matrix_0[1][1] +=1\n",
    "                    confusion_matrix_1[0][1] +=1\n",
    "                    confusion_matrix_2[1][1] +=1\n",
    "                    confusion_matrix_3[1][0] +=1\n",
    "                elif(predicted[i] == 2): \n",
    "                    confusion_matrix_0[1][1] +=1\n",
    "                    confusion_matrix_1[1][1] +=1\n",
    "                    confusion_matrix_2[0][1] +=1\n",
    "                    confusion_matrix_3[1][0] +=1\n",
    "        i+=1\n",
    "        \n",
    "overall_accuracy = correct/800\n",
    "print(confusion_matrix_0)\n",
    "print(confusion_matrix_1)\n",
    "print(confusion_matrix_2)\n",
    "print(confusion_matrix_3)\n",
    "print(\"overall accuracy: \",overall_accuracy)"
   ]
  },
  {
   "cell_type": "markdown",
   "metadata": {},
   "source": [
    "(2) Randomly remove 95 training articles from class 1 (\"crude\") of the training set.\n",
    "Train the second classifier using the reduced training samples.\n",
    "Compute the confusion matrix for the 4 classes using the testing samples.\n",
    "\n",
    "Print out the numbers of the training and testing samples belonging to each class, the $2\\times 2$ confusion matrix for each of the 4 classes, and the overall accuracy of the classifier."
   ]
  },
  {
   "cell_type": "code",
   "execution_count": 93,
   "metadata": {},
   "outputs": [
    {
     "name": "stdout",
     "output_type": "stream",
     "text": [
      "testing label class 0 : 100 ,class 1: 195 ,class 2: 100, class 3: 100\n",
      "training label class 0 : 100 ,class 1: 5 ,class 2: 100, class 3: 100\n",
      "[0 0 0 0 0 0 0 0 0 1 0 0 0 0 0 0 0 0 0 0 0 1 0 0 0 0 0 0 0 0 0 0 0 0 0 0 0\n",
      " 0 0 0 0 0 0 0 0 0 0 0 0 0 0 0 0 0 0 0 0 0 0 0 0 0 0 0 0 0 0 0 0 0 0 0 0 0\n",
      " 0 0 0 0 0 0 0 0 0 0 0 0 0 0 0 0 0 0 0 0 0 0 0 0 0 0 0 1 1 0 0 0 1 0 0 0 0\n",
      " 0 0 1 0 1 0 0 1 0 1 1 1 0 0 1 0 0 0 1 1 1 0 0 1 1 1 0 0 0 1 1 0 0 0 0 1 0\n",
      " 0 0 1 0 0 0 1 0 0 0 1 0 1 0 0 0 0 0 0 0 1 0 1 1 0 1 1 1 1 1 0 0 0 1 0 1 0\n",
      " 1 1 1 0 0 1 0 0 1 0 0 0 0 0 1 0 1 1 1 0 0 1 0 1 0 1 0 1 0 1 1 1 1 1 0 1 0\n",
      " 0 1 0 1 1 0 0 1 0 0 0 0 0 0 1 0 1 0 0 0 0 0 0 1 0 0 0 0 1 0 0 0 1 0 1 1 0\n",
      " 0 1 1 0 1 1 1 0 1 0 0 0 1 1 1 0 0 1 0 0 1 0 0 0 1 1 0 1 0 0 0 0 1 0 1 1 0\n",
      " 1 0 0 0 1 0 0 1 1 1 1 1 1 0 1 1 1 0 1 1 0 1 0 1 0 1 1 1 1 0 0 0 0 1 1 1 0\n",
      " 1 0 1 0 1 0 1 0 0 0 1 1 0 0 0 1 1 0 1 1 1 1 1 0 0 1 1 1 0 1 0 0 1 1 0 1 1\n",
      " 0 1 0 0 1 1 0 1 1 1 1 0 0 1 1 1 1 1 1 1 0 1 0 1 1 0 0 1 0 0 0 1 0 0 1 0 1\n",
      " 1 0 0 0 0 1 1 0 0 0 0 1 1 1 0 0 0 0 1 0 1 0 0 0 0 0 0 0 1 0 0 1 1 0 0 0 1\n",
      " 0 0 0 0 0 0 0 0 1 0 0 0 1 1 1 0 0 0 1 0 1 0 0 0 1 0 1 0 0 0 0 0 1 1 1 1 0\n",
      " 0 0 0 0 1 0 1 0 0 0 0 0 0 0]\n",
      "[[98, 225], [2, 170]]\n",
      "[[80, 92], [115, 208]]\n",
      "[[0, 0], [100, 395]]\n",
      "[[0, 0], [100, 395]]\n",
      "overall accuracy:  0.2225\n"
     ]
    }
   ],
   "source": [
    "# Your code goes here\n",
    "testing = sample_indices(labels, 100, 195, 100, 100)\n",
    "training = list(set(range(800))-set(testing))\n",
    "print(\"testing label class 0 : 100 ,class 1: 195 ,class 2: 100, class 3: 100\" )\n",
    "print(\"training label class 0 : 100 ,class 1: 5 ,class 2: 100, class 3: 100\" )\n",
    "confusion_matrix_0 =[[0,0],[0,0]]\n",
    "confusion_matrix_1 =[[0,0],[0,0]]\n",
    "confusion_matrix_2 =[[0,0],[0,0]]\n",
    "confusion_matrix_3 =[[0,0],[0,0]]\n",
    "predicted = knn_classify(data[testing],data[training],labels,metric=\"euclidean\",k =1)\n",
    "print(predicted)\n",
    "i=0\n",
    "correct = 0\n",
    "for label in labels[testing]:\n",
    "        if(label == predicted[i]):\n",
    "            correct +=1\n",
    "            if(label == 0):\n",
    "                confusion_matrix_0[0][0] +=1\n",
    "                confusion_matrix_1[1][1] +=1\n",
    "                confusion_matrix_2[1][1] +=1\n",
    "                confusion_matrix_3[1][1] +=1\n",
    "                \n",
    "            elif(label == 1):\n",
    "                confusion_matrix_0[1][1] +=1\n",
    "                confusion_matrix_1[0][0] +=1\n",
    "                confusion_matrix_2[1][1] +=1\n",
    "                confusion_matrix_3[1][1] +=1\n",
    "            elif(label == 2):\n",
    "                confusion_matrix_0[1][1] +=1\n",
    "                confusion_matrix_1[1][1] +=1\n",
    "                confusion_matrix_2[0][0] +=1\n",
    "                confusion_matrix_3[1][1] +=1\n",
    "            elif(label == 3):\n",
    "                confusion_matrix_0[1][1] +=1\n",
    "                confusion_matrix_1[1][1] +=1\n",
    "                confusion_matrix_2[1][1] +=1\n",
    "                confusion_matrix_3[0][0] +=1\n",
    "        else:\n",
    "            if(label == 0):\n",
    "                if(predicted[i] ==1):\n",
    "                    confusion_matrix_0[1][0] +=1\n",
    "                    confusion_matrix_1[0][1] +=1\n",
    "                    confusion_matrix_2[1][1] +=1\n",
    "                    confusion_matrix_3[1][1] +=1\n",
    "                elif(predicted[i] == 2):\n",
    "                    confusion_matrix_0[1][0] +=1\n",
    "                    confusion_matrix_1[1][1] +=1\n",
    "                    confusion_matrix_2[0][1] +=1\n",
    "                    confusion_matrix_3[1][1] +=1\n",
    "                elif(predicted[i] == 3):  \n",
    "                    confusion_matrix_0[1][0] +=1\n",
    "                    confusion_matrix_1[1][1] +=1\n",
    "                    confusion_matrix_2[1][1] +=1\n",
    "                    confusion_matrix_3[0][1] +=1\n",
    "            elif(label == 1):\n",
    "                if(predicted[i] ==0):\n",
    "                    confusion_matrix_0[0][1] +=1\n",
    "                    confusion_matrix_1[1][0] +=1\n",
    "                    confusion_matrix_2[1][1] +=1\n",
    "                    confusion_matrix_3[1][1] +=1\n",
    "                elif(predicted[i] == 2):\n",
    "                    confusion_matrix_0[1][1] +=1\n",
    "                    confusion_matrix_1[1][0] +=1\n",
    "                    confusion_matrix_2[0][1] +=1\n",
    "                    confusion_matrix_3[1][1] +=1\n",
    "                elif(predicted[i] == 3):  \n",
    "                    confusion_matrix_0[1][1] +=1\n",
    "                    confusion_matrix_1[1][0] +=1\n",
    "                    confusion_matrix_2[1][1] +=1\n",
    "                    confusion_matrix_3[0][1] +=1\n",
    "            elif(label == 2):\n",
    "                if(predicted[i] ==0): \n",
    "                    confusion_matrix_0[0][1] +=1\n",
    "                    confusion_matrix_1[1][1] +=1\n",
    "                    confusion_matrix_2[1][0] +=1\n",
    "                    confusion_matrix_3[1][1] +=1\n",
    "                elif(predicted[i] == 1):\n",
    "                    confusion_matrix_0[1][1] +=1\n",
    "                    confusion_matrix_1[0][1] +=1\n",
    "                    confusion_matrix_2[1][0] +=1\n",
    "                    confusion_matrix_3[1][1] +=1\n",
    "                elif(predicted[i] == 3): \n",
    "                    confusion_matrix_0[1][1] +=1\n",
    "                    confusion_matrix_1[1][1] +=1\n",
    "                    confusion_matrix_2[1][0] +=1\n",
    "                    confusion_matrix_3[0][1] +=1\n",
    "            elif(label == 3):    \n",
    "                if(predicted[i] ==0):\n",
    "                    confusion_matrix_0[0][1] +=1\n",
    "                    confusion_matrix_1[1][1] +=1\n",
    "                    confusion_matrix_2[1][1] +=1\n",
    "                    confusion_matrix_3[1][0] +=1\n",
    "                elif(predicted[i] == 1):\n",
    "                    confusion_matrix_0[1][1] +=1\n",
    "                    confusion_matrix_1[0][1] +=1\n",
    "                    confusion_matrix_2[1][1] +=1\n",
    "                    confusion_matrix_3[1][0] +=1\n",
    "                elif(predicted[i] == 2): \n",
    "                    confusion_matrix_0[1][1] +=1\n",
    "                    confusion_matrix_1[1][1] +=1\n",
    "                    confusion_matrix_2[0][1] +=1\n",
    "                    confusion_matrix_3[1][0] +=1\n",
    "        i+=1\n",
    "overall_accuracy = correct/800\n",
    "print(confusion_matrix_0)\n",
    "print(confusion_matrix_1)\n",
    "print(confusion_matrix_2)\n",
    "print(confusion_matrix_3)\n",
    "print(\"overall accuracy: \",overall_accuracy)"
   ]
  },
  {
   "cell_type": "markdown",
   "metadata": {},
   "source": [
    "(3) Randomly remove 95 training articles from each class, and do it for *all* the classes of the training set.\n",
    "Train the third classifier using the new training data.\n",
    "Compute the confusion matrix for the 4 classes using the testing samples.\n",
    "\n",
    "Print out the numbers of the training and testing samples belonging to each class, the $2\\times 2$ confusion matrix for each of the 4 classes, and the overall accuracy of the classifier."
   ]
  },
  {
   "cell_type": "code",
   "execution_count": 96,
   "metadata": {},
   "outputs": [
    {
     "name": "stdout",
     "output_type": "stream",
     "text": [
      "testing label class 0 : 195 ,class 1: 195 ,class 2: 195, class 3: 195\n",
      "training label class 0 : 5 ,class 1: 5 ,class 2: 5, class 3: 5\n",
      "[0 0 0 0 0 0 0 0 0 0 0 0 0 0 0 0 0 0 0 0 0 0 0 0 0 0 0 0 0 0 0 0 0 0 0 0 0\n",
      " 0 0 0 0 0 0 0 0 0 0 0 0 0 0 0 0 0 0 0 0 0 0 0 0 0 0 0 0 0 0 0 0 0 0 0 0 0\n",
      " 0 0 0 0 0 0 0 0 0 0 0 0 0 0 0 0 0 0 0 0 0 0 0 0 0 0 0 0 0 0 0 0 0 0 0 0 0\n",
      " 0 0 0 0 0 0 0 0 0 0 0 0 0 0 0 0 0 0 0 0 0 0 0 0 0 0 0 0 0 0 0 0 0 0 0 0 0\n",
      " 0 0 0 0 0 0 0 0 0 0 0 0 0 0 0 0 0 0 0 0 0 0 0 0 0 0 0 0 0 0 0 0 0 0 0 0 0\n",
      " 0 0 0 0 0 0 0 0 0 0 0 0 0 0 0 0 0 0 0 0 0 0 0 0 0 0 0 0 0 0 0 0 0 0 0 0 0\n",
      " 0 0 0 0 0 0 0 0 0 0 0 0 0 0 0 0 0 0 0 0 0 0 0 0 0 0 0 0 0 0 0 0 0 0 0 0 0\n",
      " 0 0 0 0 0 0 0 0 0 0 0 0 0 0 0 0 0 0 0 0 0 0 0 0 0 0 0 0 0 0 0 0 0 0 0 0 0\n",
      " 0 0 0 0 0 0 0 0 0 0 0 0 0 0 0 0 0 0 0 0 0 0 0 0 0 0 0 0 0 0 0 0 0 0 0 0 0\n",
      " 0 0 0 0 0 0 0 0 0 0 0 0 0 0 0 0 0 0 0 0 0 0 0 0 0 0 0 0 0 0 0 0 0 0 0 0 0\n",
      " 0 0 0 0 0 0 0 0 0 0 0 0 0 0 0 0 0 0 0 0 0 0 0 0 0 0 0 0 0 0 0 0 0 0 0 0 0\n",
      " 0 0 0 0 0 0 0 0 0 0 0 0 0 0 0 0 0 0 0 0 0 0 0 0 0 0 0 0 0 0 0 0 0 0 0 0 0\n",
      " 0 0 0 0 0 0 0 0 0 0 0 0 0 0 0 0 0 0 0 0 0 0 0 0 0 0 0 0 0 0 0 0 0 0 0 0 0\n",
      " 0 0 0 0 0 0 0 0 0 0 0 0 0 0 0 0 0 0 0 0 0 0 0 0 0 0 0 0 0 0 0 0 0 0 0 0 0\n",
      " 0 0 0 0 0 0 0 0 0 0 0 0 0 0 0 0 0 0 0 0 0 0 0 0 0 0 0 0 0 0 0 0 0 0 0 0 0\n",
      " 0 0 0 0 0 0 0 0 0 0 0 0 0 0 0 0 0 0 0 0 0 0 0 0 0 0 0 0 0 0 0 0 0 0 0 0 0\n",
      " 0 0 0 0 0 0 0 0 0 0 0 0 0 0 0 0 0 0 0 0 0 0 0 0 0 0 0 0 0 0 0 0 0 0 0 0 0\n",
      " 0 0 0 0 0 0 0 0 0 0 0 0 0 0 0 0 0 0 0 0 0 0 0 0 0 0 0 0 0 0 0 0 0 0 0 0 0\n",
      " 0 0 0 0 0 0 0 0 0 0 0 0 0 0 0 0 0 0 0 0 0 0 0 0 0 0 0 0 0 0 0 0 0 0 0 0 0\n",
      " 0 0 0 0 0 0 0 0 0 0 0 0 0 0 0 0 0 0 0 0 0 0 0 0 0 0 0 0 0 0 0 0 0 0 0 0 0\n",
      " 0 0 0 0 0 0 0 0 0 0 0 0 0 0 0 0 0 0 0 0 0 0 0 0 0 0 0 0 0 0 0 0 0 0 0 0 0\n",
      " 0 0 0]\n",
      "[[195, 585], [0, 0]]\n",
      "[[0, 0], [195, 585]]\n",
      "[[0, 0], [195, 585]]\n",
      "[[0, 0], [195, 585]]\n",
      "overall accuracy:  0.24375\n"
     ]
    }
   ],
   "source": [
    "# Your code goes here\n",
    "testing = sample_indices(labels, 195, 195, 195, 195)\n",
    "training = list(set(range(800))-set(testing))\n",
    "print(\"testing label class 0 : 195 ,class 1: 195 ,class 2: 195, class 3: 195\" )\n",
    "print(\"training label class 0 : 5 ,class 1: 5 ,class 2: 5, class 3: 5\" )\n",
    "confusion_matrix_0 =[[0,0],[0,0]]\n",
    "confusion_matrix_1 =[[0,0],[0,0]]\n",
    "confusion_matrix_2 =[[0,0],[0,0]]\n",
    "confusion_matrix_3 =[[0,0],[0,0]]\n",
    "predicted = knn_classify(data[testing],data[training],labels,metric=\"euclidean\",k =1)\n",
    "print(predicted)\n",
    "i=0\n",
    "correct = 0\n",
    "for label in labels[testing]:\n",
    "        if(label == predicted[i]):\n",
    "            correct +=1\n",
    "            if(label == 0):\n",
    "                confusion_matrix_0[0][0] +=1\n",
    "                confusion_matrix_1[1][1] +=1\n",
    "                confusion_matrix_2[1][1] +=1\n",
    "                confusion_matrix_3[1][1] +=1\n",
    "                \n",
    "            elif(label == 1):\n",
    "                confusion_matrix_0[1][1] +=1\n",
    "                confusion_matrix_1[0][0] +=1\n",
    "                confusion_matrix_2[1][1] +=1\n",
    "                confusion_matrix_3[1][1] +=1\n",
    "            elif(label == 2):\n",
    "                confusion_matrix_0[1][1] +=1\n",
    "                confusion_matrix_1[1][1] +=1\n",
    "                confusion_matrix_2[0][0] +=1\n",
    "                confusion_matrix_3[1][1] +=1\n",
    "            elif(label == 3):\n",
    "                confusion_matrix_0[1][1] +=1\n",
    "                confusion_matrix_1[1][1] +=1\n",
    "                confusion_matrix_2[1][1] +=1\n",
    "                confusion_matrix_3[0][0] +=1\n",
    "        else:\n",
    "            if(label == 0):\n",
    "                if(predicted[i] ==1):\n",
    "                    confusion_matrix_0[1][0] +=1\n",
    "                    confusion_matrix_1[0][1] +=1\n",
    "                    confusion_matrix_2[1][1] +=1\n",
    "                    confusion_matrix_3[1][1] +=1\n",
    "                elif(predicted[i] == 2):\n",
    "                    confusion_matrix_0[1][0] +=1\n",
    "                    confusion_matrix_1[1][1] +=1\n",
    "                    confusion_matrix_2[0][1] +=1\n",
    "                    confusion_matrix_3[1][1] +=1\n",
    "                elif(predicted[i] == 3):  \n",
    "                    confusion_matrix_0[1][0] +=1\n",
    "                    confusion_matrix_1[1][1] +=1\n",
    "                    confusion_matrix_2[1][1] +=1\n",
    "                    confusion_matrix_3[0][1] +=1\n",
    "            elif(label == 1):\n",
    "                if(predicted[i] ==0):\n",
    "                    confusion_matrix_0[0][1] +=1\n",
    "                    confusion_matrix_1[1][0] +=1\n",
    "                    confusion_matrix_2[1][1] +=1\n",
    "                    confusion_matrix_3[1][1] +=1\n",
    "                elif(predicted[i] == 2):\n",
    "                    confusion_matrix_0[1][1] +=1\n",
    "                    confusion_matrix_1[1][0] +=1\n",
    "                    confusion_matrix_2[0][1] +=1\n",
    "                    confusion_matrix_3[1][1] +=1\n",
    "                elif(predicted[i] == 3):  \n",
    "                    confusion_matrix_0[1][1] +=1\n",
    "                    confusion_matrix_1[1][0] +=1\n",
    "                    confusion_matrix_2[1][1] +=1\n",
    "                    confusion_matrix_3[0][1] +=1\n",
    "            elif(label == 2):\n",
    "                if(predicted[i] ==0): \n",
    "                    confusion_matrix_0[0][1] +=1\n",
    "                    confusion_matrix_1[1][1] +=1\n",
    "                    confusion_matrix_2[1][0] +=1\n",
    "                    confusion_matrix_3[1][1] +=1\n",
    "                elif(predicted[i] == 1):\n",
    "                    confusion_matrix_0[1][1] +=1\n",
    "                    confusion_matrix_1[0][1] +=1\n",
    "                    confusion_matrix_2[1][0] +=1\n",
    "                    confusion_matrix_3[1][1] +=1\n",
    "                elif(predicted[i] == 3): \n",
    "                    confusion_matrix_0[1][1] +=1\n",
    "                    confusion_matrix_1[1][1] +=1\n",
    "                    confusion_matrix_2[1][0] +=1\n",
    "                    confusion_matrix_3[0][1] +=1\n",
    "            elif(label == 3):    \n",
    "                if(predicted[i] ==0):\n",
    "                    confusion_matrix_0[0][1] +=1\n",
    "                    confusion_matrix_1[1][1] +=1\n",
    "                    confusion_matrix_2[1][1] +=1\n",
    "                    confusion_matrix_3[1][0] +=1\n",
    "                elif(predicted[i] == 1):\n",
    "                    confusion_matrix_0[1][1] +=1\n",
    "                    confusion_matrix_1[0][1] +=1\n",
    "                    confusion_matrix_2[1][1] +=1\n",
    "                    confusion_matrix_3[1][0] +=1\n",
    "                elif(predicted[i] == 2): \n",
    "                    confusion_matrix_0[1][1] +=1\n",
    "                    confusion_matrix_1[1][1] +=1\n",
    "                    confusion_matrix_2[0][1] +=1\n",
    "                    confusion_matrix_3[1][0] +=1\n",
    "        i+=1\n",
    "overall_accuracy = correct/800\n",
    "print(confusion_matrix_0)\n",
    "print(confusion_matrix_1)\n",
    "print(confusion_matrix_2)\n",
    "print(confusion_matrix_3)\n",
    "print(\"overall accuracy: \",overall_accuracy)"
   ]
  },
  {
   "cell_type": "markdown",
   "metadata": {},
   "source": [
    "Repeat the whole thing a few times. Based on the observed results, state in your report which of the three classifiers performs the worst, and explain in your report the reason."
   ]
  },
  {
   "cell_type": "raw",
   "metadata": {},
   "source": []
  },
  {
   "cell_type": "markdown",
   "metadata": {},
   "source": [
    "## 5. Result Analysis (4 Marks in Total)\n",
    "\n",
    "### Analysis 1 (2 Marks, Normal)\n",
    "Choose a training-testing trial in Experiment 2 for k=1. Observe the testing error of this 1-NN, and estimate the interval where its true error lies with 90% probability. Explain in your report how you compute it."
   ]
  },
  {
   "cell_type": "markdown",
   "metadata": {},
   "source": [
    "### Analysis 2 (2 Marks, Normal)\n",
    "The following function `Get_p_value()` is provided to obtain $p$ according to $z_p$. Use this function to perform Analysis 2."
   ]
  },
  {
   "cell_type": "code",
   "execution_count": 101,
   "metadata": {},
   "outputs": [],
   "source": [
    "# run this cell first\n",
    "\n",
    "def Get_p_value(zp):\n",
    "    return round(1 - scipy.stats.norm.sf(abs(zp))*2,2)"
   ]
  },
  {
   "cell_type": "code",
   "execution_count": 104,
   "metadata": {},
   "outputs": [
    {
     "name": "stdout",
     "output_type": "stream",
     "text": [
      "zp = 0.67, p =  0.5\n",
      "zp = 1, p =  0.68\n",
      "zp = 1.64, p =  0.9\n",
      "zp = 2.58, p =  0.99\n",
      "\n",
      "p =  0.33\n",
      "0.19\n"
     ]
    }
   ],
   "source": [
    "# Use this cell to compare the output value of function Get_p_value with \n",
    "# the table provided in your lecture notes (e.g., Slide 12, Chapter3C.pdf)\n",
    "\n",
    "print('zp = 0.67, p = ', Get_p_value(0.67))\n",
    "print('zp = 1, p = ', Get_p_value(1))\n",
    "print('zp = 1.64, p = ', Get_p_value(1.64))\n",
    "print('zp = 2.58, p = ', Get_p_value(2.58))\n",
    "print()\n",
    "\n",
    "# you can alert the input zp value and re-run this cell to help you to calculate the corresponding p.\n",
    "print('p = ', Get_p_value(0.43))  \n",
    "print(Get_p_value(0.24))\n",
    "# you can change 0.43 to any zp value you obtained.\n"
   ]
  },
  {
   "cell_type": "markdown",
   "metadata": {},
   "source": [
    "Choose a training-testing trial in Experiment 2 for k=45. Observe the testing error of this 45-NN. Compare it with the 1-NN in Analysis 1. Which one has higher testing sample error? Estimate the probability that it also has higher true error. Explain your answer and how you compute it in the report.  "
   ]
  },
  {
   "cell_type": "markdown",
   "metadata": {},
   "source": [
    "## 6. Hyperparameter Selection (5 Marks, Hard)\n",
    "\n",
    "Use your k-NN function with cosine distance. Design an appropriate and complete machine learning experiment, which should include the training, hyper-parameter selection and evaluation stages. In this case, your hyperparameter will be $k$. You can choose from the random subsampling, k-fold CV and LOO approaches for hyperparameter selection. In order to get 5 marks, you should implement this from scrach without using readily implemented data-split functions provided in existing libraris. If you decide to use existing implementation on data splitting, model selection and/or evaluation, you can get at most 3 marks. Explain in the report your experiment design, data splitting strategy, and the obtained results, also justify your design from theory side with the machine leanring knowlwdge learned.\n"
   ]
  },
  {
   "cell_type": "code",
   "execution_count": 97,
   "metadata": {},
   "outputs": [
    {
     "name": "stdout",
     "output_type": "stream",
     "text": [
      "[0.0037500000000000007, 0.004124999999999999, 0.004625, 0.00475, 0.005, 0.00525, 0.005125, 0.005125, 0.0055000000000000005, 0.0055000000000000005, 0.005875, 0.005750000000000001, 0.006125, 0.006500000000000001, 0.00625, 0.006500000000000001, 0.006750000000000001, 0.006500000000000001, 0.0063750000000000005, 0.006750000000000001, 0.006875000000000001, 0.006875000000000001, 0.006875000000000001, 0.007000000000000001, 0.0072499999999999995, 0.007375, 0.00775, 0.007375000000000001, 0.00775, 0.007625, 0.00775, 0.007750000000000002, 0.008, 0.008375, 0.008125, 0.00825, 0.00825, 0.00825, 0.008125, 0.008125, 0.00825, 0.008125, 0.00825, 0.008375, 0.00825, 0.00825, 0.008625, 0.008625, 0.0085, 0.0085]\n",
      "[ 0  1  2  3  4  6  7  5  8  9 11 10 12 14 18 13 15 17 16 19 22 20 21 23\n",
      " 24 25 27 29 26 28 30 31 32 34 41 38 39 45 44 42 37 36 35 40 43 33 48 49\n",
      " 46 47]\n",
      "optimised k value is 1\n"
     ]
    }
   ],
   "source": [
    "# Your code goes here.\n",
    "kholding = 10\n",
    "korder =[]\n",
    "for kvalue  in range(50):\n",
    "    error_rate = []\n",
    "    blimit = 0\n",
    "    ulimit = int(800/kholding)\n",
    "    gap = int(800/kholding)\n",
    "    for index in range(kholding):\n",
    "        testing = list(set(range(blimit,ulimit)))\n",
    "        training = list(set(range(800))-set(testing))\n",
    "#         print(kvalue+1)\n",
    "        predicted = knn_classify(data[testing],data[training],labels[training],\"cosine\",k = kvalue+1)\n",
    "#         print(predicted)\n",
    "        correct_predict = 0\n",
    "        wrong_predict = 0\n",
    "        i=0\n",
    "        for label in labels[testing]:\n",
    "#             print(label)\n",
    "#             print(i)\n",
    "#             print(predicted[i])\n",
    "            if(label == predicted[i]):\n",
    "                correct_predict += 1\n",
    "            else:\n",
    "                wrong_predict += 1\n",
    "            i+=1\n",
    "        error_rate.append(wrong_predict/800)    \n",
    "#         print(testing)\n",
    "#         print(training)\n",
    "        blimit = ulimit\n",
    "        ulimit = ulimit + gap\n",
    "    korder.append(np.average(error_rate))\n",
    "print(korder)\n",
    "finemodel = np.argsort(korder)\n",
    "print(finemodel)\n",
    "print(\"optimised k value is\",(finemodel[0]+1))"
   ]
  },
  {
   "cell_type": "code",
   "execution_count": null,
   "metadata": {},
   "outputs": [],
   "source": []
  }
 ],
 "metadata": {
  "kernelspec": {
   "display_name": "Python 3",
   "language": "python",
   "name": "python3"
  },
  "language_info": {
   "codemirror_mode": {
    "name": "ipython",
    "version": 3
   },
   "file_extension": ".py",
   "mimetype": "text/x-python",
   "name": "python",
   "nbconvert_exporter": "python",
   "pygments_lexer": "ipython3",
   "version": "3.8.5"
  }
 },
 "nbformat": 4,
 "nbformat_minor": 4
}
