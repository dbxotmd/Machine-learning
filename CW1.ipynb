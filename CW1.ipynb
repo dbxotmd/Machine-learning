{
 "cells": [
  {
   "cell_type": "markdown",
   "metadata": {},
   "source": [
    "## Lab 1: Python Exercises for COMP24112\n",
    "\n",
    "# 1. Instruction\n",
    "\n",
    "There are a total of 12 exercises. You are asked to complete all of them. Print out the final results, and comment if needed. Make sure your results can be reproduced by your TA using Restart & Run All.\n",
    "You are **only** allowed to use libraries in the provided file “Instruction on Mathematical Programming in Python for COMP24112”. Additionally, everything asked to add to a report should be included in one single .pdf file (Arial font 11 or equivalent, maximum two pages, and best to fit within one page)."
   ]
  },
  {
   "cell_type": "markdown",
   "metadata": {},
   "source": [
    "## 2. Exercises\n",
    "\n",
    "Start with the provided supporting tutorial \"Instruction on Mathematical Programming in Python\" and \"Maths Knowledge Overview\". After you are familiar with the basics, you can proceed to the exercises.\n"
   ]
  },
  {
   "cell_type": "markdown",
   "metadata": {},
   "source": [
    "### Exercise 1 (1 mark - easy)\n",
    "\n",
    "Input a 4 by 4 magic square matrix \n",
    "$$\\textbf{A}=\n",
    "\\left[\n",
    "\\begin{array}{cccc}\n",
    "        16   &   3 &  2 & 13 \\\\\n",
    "        5    &  10 & 11 &  8 \\\\\n",
    "        9    &   6 &  7 & 12 \\\\\n",
    "        4    &  15 & 14 &  1 \\\\\n",
    "\\end{array}\n",
    "\\right]. \n",
    "$$  \n",
    "\n",
    "Generate a 4 by 4 matrix $\\textbf{B}$ with random integer entries. Set $\\textbf{C}$ to be a 4 by 4 matrix with 1's on the diagonal and 0's elsewhere. Check to see that, $\\textbf{A}$, $\\textbf{B}$ and $\\textbf{C}$ are all present. Compute the sum of the third column of $\\textbf{A}$."
   ]
  },
  {
   "cell_type": "code",
   "execution_count": 73,
   "metadata": {},
   "outputs": [
    {
     "name": "stdout",
     "output_type": "stream",
     "text": [
      "A is\n",
      "[[16  3  2 13]\n",
      " [ 5 10 11  8]\n",
      " [ 9  6  7 12]\n",
      " [ 4 15 14  1]]\n",
      "B is\n",
      "[[16  3 12  3]\n",
      " [ 2 10 18  1]\n",
      " [ 1  1 18  9]\n",
      " [14  2 11 14]]\n",
      "C is\n",
      "[[1 0 0 0]\n",
      " [0 1 0 0]\n",
      " [0 0 1 0]\n",
      " [0 0 0 1]]\n",
      "[[34]]\n"
     ]
    }
   ],
   "source": [
    "# Write your code here\n",
    "import numpy as np\n",
    "import random\n",
    "A = np.matrix([[16,3,2,13],[5,10,11,8],[9,6,7,12],[4,15,14,1]])\n",
    "B = np.random.randint(0,20,size =[4,4])\n",
    "C= np.diag([1,1,1,1])\n",
    "print(\"A is\")\n",
    "print(A)\n",
    "print(\"B is\")\n",
    "print(B)\n",
    "print(\"C is\")\n",
    "print(C)\n",
    "print(A.sum(axis = 1)[2])"
   ]
  },
  {
   "cell_type": "markdown",
   "metadata": {},
   "source": [
    "### Exercise 2 (1 mark - easy)\n",
    "\n",
    "Generate a 4 by 2 matrix consisting of the 1st and 3rd columns of $\\textbf{B}$ using the colon operator."
   ]
  },
  {
   "cell_type": "code",
   "execution_count": 63,
   "metadata": {},
   "outputs": [
    {
     "name": "stdout",
     "output_type": "stream",
     "text": [
      "[[ 7  8]\n",
      " [ 5 15]\n",
      " [13  3]\n",
      " [ 4  2]]\n"
     ]
    }
   ],
   "source": [
    "# Write your code here\n",
    "print(B[:,::2])"
   ]
  },
  {
   "cell_type": "markdown",
   "metadata": {},
   "source": [
    "### Exercise 3 (1 mark - easy)\n",
    "\n",
    "Generate a 4 by 2 matrix containing two different columns that are randomly selected from the columns of $\\textbf{B}$. Generate a 3 by 4 matrix containing three different rows that are randomly selected from the rows of $\\textbf{B}$. "
   ]
  },
  {
   "cell_type": "code",
   "execution_count": 60,
   "metadata": {},
   "outputs": [
    {
     "name": "stdout",
     "output_type": "stream",
     "text": [
      "[[ 4 19  2  7]\n",
      " [ 5 12 15 12]\n",
      " [ 7 17  8  0]]\n"
     ]
    }
   ],
   "source": [
    "# Write your code here\n",
    "number_of_rows = B.shape[0]\n",
    "random_indices = np.random.choice(number_of_rows, size=3, replace=False)\n",
    "random_rows = B[random_indices, :]\n",
    "print(random_rows)"
   ]
  },
  {
   "cell_type": "markdown",
   "metadata": {},
   "source": [
    "### Exercise 4 (1 mark - easy)\n",
    "\n",
    "The matrix $\\textbf{A}$ is a magic square, in which the sum of each row, each column, and each diagonal is the same. First check whether $\\textbf{A}$ satisfies this  magic square condition. Then sort the 2nd row of $\\textbf{A}$ and print this sorted row using appropriate commands."
   ]
  },
  {
   "cell_type": "code",
   "execution_count": 79,
   "metadata": {},
   "outputs": [
    {
     "name": "stdout",
     "output_type": "stream",
     "text": [
      "\n",
      "Sum of column elements is:\n",
      "[[34]\n",
      " [34]\n",
      " [34]\n",
      " [34]]\n",
      "\n",
      "Sum of row elements is:\n",
      "[[34 34 34 34]]\n",
      "\n",
      "Sum of Diagonal elements is:\n",
      "34\n",
      "sorting second row of A\n",
      "[[ 5  8 10 11]]\n"
     ]
    }
   ],
   "source": [
    "# Write your code here\n",
    "print(\"\\nSum of column elements is:\")\n",
    "print(A.sum(axis = 1))\n",
    "print(\"\\nSum of row elements is:\")\n",
    "print(A.sum(axis = 0))\n",
    "diag = np.diagonal(A)  \n",
    "print(\"\\nSum of Diagonal elements is:\")\n",
    "print(sum(diag))\n",
    "print(\"sorting second row of A\")\n",
    "print(np.sort(A[1]))"
   ]
  },
  {
   "cell_type": "markdown",
   "metadata": {},
   "source": [
    "### Exercise 5 (1 mark - easy)\n",
    "\n",
    "Set $\\textbf{B}$ as an identity matrix, multiplication of $\\textbf{A}$ by $\\textbf{B}$ should yield $\\textbf{A}$. Check this. What does component by component multipilication give? Check this. "
   ]
  },
  {
   "cell_type": "code",
   "execution_count": 84,
   "metadata": {},
   "outputs": [
    {
     "name": "stdout",
     "output_type": "stream",
     "text": [
      "[[1 0 0 0]\n",
      " [0 1 0 0]\n",
      " [0 0 1 0]\n",
      " [0 0 0 1]]\n",
      "\n",
      "Yield A is \n",
      "[[16  3  2 13]\n",
      " [ 5 10 11  8]\n",
      " [ 9  6  7 12]\n",
      " [ 4 15 14  1]]\n"
     ]
    }
   ],
   "source": [
    "# Write your code here\n",
    "B = np.diag([1,1,1,1])\n",
    "print(B)\n",
    "print()\n",
    "print(\"Yield A is \")\n",
    "print(A@B)"
   ]
  },
  {
   "cell_type": "markdown",
   "metadata": {},
   "source": [
    "### Exercise 6 (1 mark - easy)\n",
    "\n",
    "Count the number of values of $\\textbf{A}$ which are greater than 10 using logical operators."
   ]
  },
  {
   "cell_type": "code",
   "execution_count": 88,
   "metadata": {},
   "outputs": [
    {
     "name": "stdout",
     "output_type": "stream",
     "text": [
      "[[ True False False  True]\n",
      " [False False  True False]\n",
      " [False False False  True]\n",
      " [False  True  True False]]\n",
      "6\n"
     ]
    }
   ],
   "source": [
    "# Write your code here\n",
    "great_10 = (A>10)\n",
    "# print(great_10)\n",
    "count = np.sum(great_10)\n",
    "print(count)"
   ]
  },
  {
   "cell_type": "markdown",
   "metadata": {},
   "source": [
    "### Exercise 7 (1 mark - easy)\n",
    "\n",
    "The reciprocal of a number $x$ is  $1/x$. Use `for` loops to  create  a new matrix $\\textbf{B}$, where each element in $\\textbf{B}$ is the reciprocal of the corresponding element in $\\textbf{A}$, and sum the columns of $\\textbf{B}$. Now create the same matrix $\\textbf{B}$ and calculate its column sums in a single operation, using matrix commands, without a `for` loop."
   ]
  },
  {
   "cell_type": "code",
   "execution_count": 97,
   "metadata": {},
   "outputs": [
    {
     "name": "stdout",
     "output_type": "stream",
     "text": [
      "A is\n",
      "[[16  3  2 13]\n",
      " [ 5 10 11  8]\n",
      " [ 9  6  7 12]\n",
      " [ 4 15 14  1]]\n",
      "Converting A  int to float\n",
      "[[16.  3.  2. 13.]\n",
      " [ 5. 10. 11.  8.]\n",
      " [ 9.  6.  7. 12.]\n",
      " [ 4. 15. 14.  1.]]\n",
      "B is\n",
      "[[0.0625     0.33333334 0.5        0.07692308]\n",
      " [0.2        0.1        0.09090909 0.125     ]\n",
      " [0.11111111 0.16666667 0.14285715 0.08333334]\n",
      " [0.25       0.06666667 0.07142857 1.        ]]\n"
     ]
    }
   ],
   "source": [
    "# Write your code here\n",
    "print(\"A is\")\n",
    "print(A)\n",
    "float_A = A.astype(np.float32)\n",
    "print(\"Converting A  int to float\")\n",
    "print(float_A)\n",
    "B = np.reciprocal(float_A)\n",
    "print(\"B is\")\n",
    "print(B)"
   ]
  },
  {
   "cell_type": "markdown",
   "metadata": {},
   "source": [
    "### Exercise 8 (1 mark - easy)\n",
    "\n",
    "Plot the log and square root of the integers from $1$ to $100$ in one single figure. Provide axis names, legend and title for the figure."
   ]
  },
  {
   "cell_type": "code",
   "execution_count": 136,
   "metadata": {},
   "outputs": [
    {
     "data": {
      "image/png": "[encoded data removed]",
      "text/plain": [
       "<Figure size 432x288 with 1 Axes>"
      ]
     },
     "metadata": {
      "needs_background": "light"
     },
     "output_type": "display_data"
    }
   ],
   "source": [
    "# Write your code here\n",
    "from matplotlib import pyplot as plt\n",
    "x = np.arange(100)\n",
    "y = np.sqrt(x)\n",
    "plt.plot(x, y)\n",
    "plt.xlabel('x')\n",
    "plt.ylabel('square root')\n",
    "plt.title('A plot')\n",
    "plt.show()"
   ]
  },
  {
   "cell_type": "markdown",
   "metadata": {},
   "source": [
    "### Exercise 9 (2 marks - normal)\n",
    "\n",
    "Let $\\boldsymbol{y} $ be an $N$-dimensional column vector with $y_i$ denoting its $i$-th element. \n",
    "Let $\\textbf{X}$ be an $N$ by $D$ matrix and $\\boldsymbol{x}_{i}$ be a column vector which is the transpose of the $i$-th row of $\\textbf{X}$.\n",
    "Let $\\boldsymbol{w}$ be a $D$-dimensional column vector. \n",
    "Choose a value for $N$ and a value for $D$ as you like, generate $\\boldsymbol{y}$, $\\textbf{X}$ and $\\boldsymbol{w}$ containing random elements.\n",
    "Use matrix operations and `for` loops to verify the following two quantities are equal. \n",
    "$$ \\boldsymbol{g}_1 = \\textbf{X}^T\\textbf{X} \\boldsymbol{w}-\\textbf{X}^T \\boldsymbol{y}$$\n",
    "$$ \\boldsymbol{g}_2 = \\sum_{i=1}^N \\left(\\boldsymbol{x}_{i}^T \\boldsymbol{w}- y_i\\right) \\boldsymbol{x}_{i}$$\n",
    "\n",
    "Define an example case for your convenience with $N=2$ and $D=3$, calculate $ \\boldsymbol{g}_1$ and $\\boldsymbol{g}_2$ by hand and write down the calcualtion step by step in the report."
   ]
  },
  {
   "cell_type": "code",
   "execution_count": 137,
   "metadata": {
    "scrolled": true
   },
   "outputs": [
    {
     "name": "stdout",
     "output_type": "stream",
     "text": [
      "y is\n",
      "[[0]\n",
      " [5]]\n",
      "w is\n",
      "[[14]\n",
      " [ 1]\n",
      " [16]]\n",
      "X is\n",
      "[[ 0  1  4]\n",
      " [14 17  3]]\n",
      "g1 is\n",
      "[[3584]\n",
      " [4417]\n",
      " [1028]]\n",
      "g2 is \n",
      "[[126 153  27]\n",
      " [168 205  40]\n",
      " [-28 -30  10]]\n"
     ]
    }
   ],
   "source": [
    "# Write your code here\n",
    "N =2\n",
    "D =3\n",
    "\n",
    "y = np.random.randint(0,20,size =[N,1])\n",
    "print(\"y is\")\n",
    "print(y)\n",
    "\n",
    "w = np.random.randint(0,20,size =[D,1])\n",
    "print(\"w is\")\n",
    "print(w)\n",
    "\n",
    "X = np.random.randint(0,20,size =[N,D])\n",
    "print(\"X is\")\n",
    "print(X)\n",
    "\n",
    "g1 = ((X.T@X@w)-(X.T@y))\n",
    "print(\"g1 is\")\n",
    "print(g1)\n",
    "g2 =0\n",
    "\n",
    "\n",
    "for i in range(N):\n",
    "#     print((X[i:i+1].T-y[i])@X[i:i+1])\n",
    "    g2 +=(X[i:i+1].T-y[i])@X[i:i+1]\n",
    "print(\"g2 is \")\n",
    "print(g2)"
   ]
  },
  {
   "cell_type": "markdown",
   "metadata": {},
   "source": [
    "### Exercise 10 (2 marks - normal)\n",
    "\n",
    "Calculate the derivative of function $f(x) = x^2+3x+1$ at 10 randomly chosen values of $x$. Write a user-defined function for calculating an approximated derivative of an input function based on \n",
    "\n",
    "$$\\frac{d f(x)}{d x}=\\frac{f(x+\\Delta x)-f(x)}{\\Delta x} ~ .$$\n",
    "\n",
    "Use this function to calculate the approximated derivative for $f(x) = x^2+3x+1$ at the same 10 chosen values of $x$ for $\\Delta x = 1$, $\\Delta x = 0.1$ and $\\Delta x = 0.001$. Plot your derivatives and the approximated derivatives in the same figure. Provide axis names, legend and title for the figure. Explain which $\\Delta x$ gives you a better approximation and analyse how the choice of $\\Delta x$ affects the approximation in the report."
   ]
  },
  {
   "cell_type": "code",
   "execution_count": 344,
   "metadata": {},
   "outputs": [
    {
     "name": "stdout",
     "output_type": "stream",
     "text": [
      "[0.66108643 0.47063929 0.96473882 0.70685955 0.22842857 0.12004371\n",
      " 0.11897531 0.34901766 0.77645831 0.66004459]\n",
      "[5.32217286 4.94127859 5.92947764 5.4137191  4.45685714 4.24008742\n",
      " 4.23795063 4.69803532 5.55291663 5.32008919]\n",
      "[4.42217286 4.04127859 5.02947764 4.5137191  3.55685714 3.34008742\n",
      " 3.33795063 3.79803532 4.65291663 4.42008919]\n",
      "[4.32317286 3.94227859 4.93047764 4.4147191  3.45785714 3.24108742\n",
      " 3.23895063 3.69903532 4.55391663 4.32108919]\n"
     ]
    },
    {
     "data": {
      "image/png": "[encoded data removed]",
      "text/plain": [
       "<Figure size 432x288 with 1 Axes>"
      ]
     },
     "metadata": {
      "needs_background": "light"
     },
     "output_type": "display_data"
    }
   ],
   "source": [
    "# Write your code here\n",
    "# random_10_value = np.random.randint(100,size =10)\n",
    "random_10_value = np.random.rand(10)\n",
    "print(random_10_value)\n",
    "# random_10_value = np.array(random_10_value)\n",
    "# print(random_10_value)\n",
    "\n",
    "def f(x):\n",
    "    return x**2 + 3*x +1\n",
    "\n",
    "def gradient(x,delta_x):\n",
    "#     print((f(x+delta_x) - f(x))/delta_x)\n",
    "    return (f(x+delta_x) - f(x))/delta_x\n",
    "\n",
    "\n",
    "# x = np.arange(random_10_value.all())\n",
    "# print(x)\n",
    "\n",
    "fx_plusone = gradient(random_10_value,1)\n",
    "print(fx_plusone)\n",
    "\n",
    "fx_pluszeroone = gradient(random_10_value,0.1)\n",
    "print(fx_pluszeroone)\n",
    "\n",
    "fx_pluszerozeroone = gradient(random_10_value,0.001)\n",
    "print(fx_pluszerozeroone)\n",
    "\n",
    "plt.plot(random_10_value, fx_plusone,'r',marker='o', linestyle='--')\n",
    "plt.plot(random_10_value, fx_pluszeroone,'g',marker='o', linestyle='--')\n",
    "plt.plot(random_10_value, fx_pluszerozeroone,'b',marker='o', linestyle='--')\n",
    "plt.xlabel('x')\n",
    "plt.ylabel('f(x)')\n",
    "plt.title('the approximated derivative for f(x)=x2+3x+1')\n",
    "plt.show()"
   ]
  },
  {
   "cell_type": "markdown",
   "metadata": {},
   "source": [
    "### Exercise 11 (3 marks - normal)\n",
    "\n",
    "Given two $d$-dimensional data points $\\boldsymbol{x} = [x_1,x_2,\\dots,x_d]$ and $\\boldsymbol{y}=[y_1,y_2,\\dots,y_d]$. The Euclidean distance between these two points is computed as \n",
    "\n",
    "$$\n",
    "d(\\boldsymbol{x},\\boldsymbol{y}) = \\sqrt{\\sum_{i=1}^d (x_i-y_i)^2} = \\sqrt{\\boldsymbol{x}\\boldsymbol{x}^T - 2\\boldsymbol{x}\\boldsymbol{y}^T+\\boldsymbol{y}\\boldsymbol{y}^T}.\n",
    "$$\n",
    "\n",
    "Generate $5$ random $3$-dimensional points and store them in a $5\\times 3$ matrix called $\\textbf{A}$ ($5$ rows and $3$ columns). Generate another $8$ random $3$-dimensional points and store them in a $8\\times 3$ matrix called $\\textbf{B}$ ($8$ rows and $3$ columns). Calculate the Euclidean distance between the $5$ and $8$ points, and store these distances in a $5\\times 8$ matrix called $\\textbf{D}$ using `for` loops ($5$ rows and $8$ colums).\n",
    "\n",
    "* Calculate the Euclidean distances between the 5 and 8 points, and store these distances in a $5\\times 8$ matrix called $\\boldsymbol{D}$ using `for` loops (5 rows and 8 columns). \n",
    "* Calculate  $\\boldsymbol{D}$ using algebraic matrix operations without using any loop.  Explain how you derive the solution in the report. \n"
   ]
  },
  {
   "cell_type": "code",
   "execution_count": 245,
   "metadata": {},
   "outputs": [
    {
     "name": "stdout",
     "output_type": "stream",
     "text": [
      "[[ 9 45  5]\n",
      " [38 83 44]\n",
      " [77 36 65]\n",
      " [35 74 13]\n",
      " [ 5 70 11]]\n",
      "[[15 20 15]\n",
      " [56 41 45]\n",
      " [79 87 78]\n",
      " [58  1 65]\n",
      " [19 79 41]\n",
      " [12 84 78]\n",
      " [55 49 16]\n",
      " [ 9 28 58]]\n",
      "[[ 27.58622845  61.84658438 109.51255636  89.08984229  50.51732376\n",
      "   82.81907993  47.46577715  55.6596802 ]\n",
      " [ 73.06846105  45.70557953  53.41348144  86.97700846  19.6468827\n",
      "   42.81354926  47.21228654  63.73382148]\n",
      " [ 81.24038405  29.42787794  52.66877633  39.8246155   76.08547825\n",
      "   81.84130986  55.26300752  68.82586723]\n",
      " [ 57.61944116  50.53711507  79.56129712  92.53107586  32.63433774\n",
      "   69.67065379  32.15587038  69.4046108 ]\n",
      " [ 51.14684741  67.80855403 101.26203632 102.40117187  34.3074336\n",
      "   68.80406965  54.46099522  63.1585307 ]]\n",
      "[[ 27.58622845  61.84658438 109.51255636  89.08984229  50.51732376\n",
      "   82.81907993  47.46577715  55.6596802 ]\n",
      " [ 73.06846105  45.70557953  53.41348144  86.97700846  19.6468827\n",
      "   42.81354926  47.21228654  63.73382148]\n",
      " [ 81.24038405  29.42787794  52.66877633  39.8246155   76.08547825\n",
      "   81.84130986  55.26300752  68.82586723]\n",
      " [ 57.61944116  50.53711507  79.56129712  92.53107586  32.63433774\n",
      "   69.67065379  32.15587038  69.4046108 ]\n",
      " [ 51.14684741  67.80855403 101.26203632 102.40117187  34.3074336\n",
      "   68.80406965  54.46099522  63.1585307 ]]\n"
     ]
    }
   ],
   "source": [
    "# Write your code here\n",
    "random_5_value = np.random.randint(100,size = [5,3])\n",
    "print(random_5_value)\n",
    "\n",
    "random_8_value = np.random.randint(100,size = [8,3])\n",
    "print(random_8_value)\n",
    "\n",
    "D = np.zeros((5,8))\n",
    "for i in range(random_5_value.shape[0]):\n",
    "    for j in range(random_8_value.shape[0]):\n",
    "        x= np.array([random_5_value[i]])\n",
    "        y = np.array([random_8_value[j]])\n",
    "\n",
    "        D[i][j] = np.sqrt((x@x.T)-(2*x@y.T)+(y@y.T))\n",
    "\n",
    "print(D)\n",
    "\n",
    "# print(random_5_value @ random_5_value.T)\n",
    "first =(random_5_value @ random_5_value.T).diagonal()\n",
    "first = np.array([first])\n",
    "first = first.T\n",
    "\n",
    "first  = (np.concatenate([first,first,first,first,first,first,first,first],axis = 1))\n",
    "\n",
    "second = (2*random_5_value@random_8_value.T)\n",
    "# print(second)\n",
    "# print(random_8_value @ random_8_value.T)\n",
    "third = (random_8_value @ random_8_value.T).diagonal()\n",
    "third = np.array([third])\n",
    "third = np.concatenate([third,third,third,third,third])\n",
    "\n",
    "D= np.sqrt(first-second+third)\n",
    "print(D)"
   ]
  },
  {
   "cell_type": "markdown",
   "metadata": {},
   "source": [
    "### Exercise 12 (5 marks - hard)\n",
    "\n",
    "This is a challenging exercise that requires some significant effort and time. Implement from scratch a piece of Python code that can be used to solve the following optimisation problem:\n",
    "$$\\min_{-4 \\leq x \\leq 6} x^4 -4x^3 +60\\sin(x) +50\\cos(x).$$\n",
    "  Explain your solution and discuss its advantage and limitation in the report.  You are encouraged to design the solution from scratch based on what you  have known. But you are allowed to seek support from existing literature and solve the problem using new self-learned knowledge, and in this case you need to provide references to the used knowledge resources that help you come up with a solution. What is not allowed is to use any optimisation library and any readily provided implementation (even with minor modifications). The solution should be implemented from scratch by yourself. "
   ]
  },
  {
   "cell_type": "code",
   "execution_count": 309,
   "metadata": {},
   "outputs": [
    {
     "data": {
      "image/png": "[encoded data removed]",
      "text/plain": [
       "<Figure size 432x288 with 1 Axes>"
      ]
     },
     "metadata": {
      "needs_background": "light"
     },
     "output_type": "display_data"
    }
   ],
   "source": [
    "# You can observe the plot of the function by running this cell\n",
    "\n",
    "import numpy as np\n",
    "import matplotlib.pyplot as plt\n",
    "\n",
    "def f(x):\n",
    "    return x**4 - 4 * x**3 + 60 * np.sin(x) + 50 * np.cos(x)\n",
    "\n",
    "lb = -4.\n",
    "ub = 6.\n",
    "x = np.arange(lb,ub,0.1)\n",
    "fx = f(x)\n",
    "\n",
    "plt.plot(x,fx)\n",
    "plt.xlabel(\"$x$\")\n",
    "plt.ylabel(\"$x^4 - 4x^3 + 60\\sin(x) +50\\cos(x)$\")\n",
    "plt.show()"
   ]
  },
  {
   "cell_type": "code",
   "execution_count": 310,
   "metadata": {},
   "outputs": [],
   "source": [
    "# Write your code here"
   ]
  },
  {
   "cell_type": "code",
   "execution_count": 346,
   "metadata": {},
   "outputs": [
    {
     "name": "stdout",
     "output_type": "stream",
     "text": [
      "minimin value\n",
      "-89.39107004002989\n",
      "minimum index\n",
      "3.7000000000000064\n"
     ]
    }
   ],
   "source": [
    "import numpy as np\n",
    "\n",
    "def f(x):\n",
    "    return x**4 - 4 * x**3 + 60 * np.sin(x) + 50 * np.cos(x)\n",
    "\n",
    "def gradient(x,delta_x):\n",
    "    return (f(x+delta_x) - f(x))/delta_x\n",
    "\n",
    "\n",
    "lb = -4.\n",
    "ub = 6.\n",
    "x = np.arange(lb,ub,0.1)\n",
    "\n",
    "minimum = 1000000\n",
    "mini_index =0\n",
    "for i in x:\n",
    "    if f(i)<minimum:\n",
    "        minimum = f(i)\n",
    "        mini_index =i\n",
    "print(\"minimum value is\")\n",
    "print(minimum)\n",
    "\n",
    "print(\"minimum_index is\")\n",
    "print(mini_index)\n",
    "\n",
    "minimum = 1000000\n",
    "mini_index =0\n",
    "\n",
    "previous_gradient = gradient(lb,0.001)\n",
    "for i in x:\n",
    "    if(((gradient(i,0.001)> 0) and (previous_gradient<0)) or (gradient(i,0.001)<0 and previous_gradient>0)):\n",
    "        if(minimum>f(i)):\n",
    "            minimum = f(i)\n",
    "            mini_index = i\n",
    "    previous_gradient = gradient(i,0.001)\n",
    "\n",
    "print(\"minimin value\")\n",
    "print(minimum)\n",
    "print(\"minimum index\")\n",
    "print(mini_index)"
   ]
  },
  {
   "cell_type": "code",
   "execution_count": null,
   "metadata": {},
   "outputs": [],
   "source": []
  },
  {
   "cell_type": "code",
   "execution_count": null,
   "metadata": {},
   "outputs": [],
   "source": []
  }
 ],
 "metadata": {
  "kernelspec": {
   "display_name": "Python 3",
   "language": "python",
   "name": "python3"
  },
  "language_info": {
   "codemirror_mode": {
    "name": "ipython",
    "version": 3
   },
   "file_extension": ".py",
   "mimetype": "text/x-python",
   "name": "python",
   "nbconvert_exporter": "python",
   "pygments_lexer": "ipython3",
   "version": "3.8.5"
  }
 },
 "nbformat": 4,
 "nbformat_minor": 2
}
